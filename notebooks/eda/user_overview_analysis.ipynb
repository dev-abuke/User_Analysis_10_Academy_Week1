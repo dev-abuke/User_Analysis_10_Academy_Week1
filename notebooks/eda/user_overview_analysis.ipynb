{
 "cells": [
  {
   "cell_type": "code",
   "execution_count": 1,
   "id": "fe03ae1d",
   "metadata": {},
   "outputs": [],
   "source": [
    "%load_ext autoreload\n",
    "%autoreload 2"
   ]
  },
  {
   "cell_type": "code",
   "execution_count": 2,
   "id": "d1b55154-4692-4c88-8d9f-80b5ebdc695b",
   "metadata": {},
   "outputs": [],
   "source": [
    "import pandas as pd\n",
    "import numpy as np\n",
    "import seaborn as sns\n",
    "import os\n",
    "import plotly.express as px"
   ]
  },
  {
   "cell_type": "code",
   "execution_count": 3,
   "id": "98795868-1ac0-424f-9607-836859ddd3de",
   "metadata": {},
   "outputs": [
    {
     "data": {
      "text/plain": [
       "'c:\\\\Users\\\\user\\\\Downloads\\\\ten_academy\\\\week1\\\\Week1-10Academy-User-Analysis'"
      ]
     },
     "execution_count": 3,
     "metadata": {},
     "output_type": "execute_result"
    }
   ],
   "source": [
    "# set working directory\n",
    "os.chdir('../..')\n",
    "os.getcwd()"
   ]
  },
  {
   "cell_type": "code",
   "execution_count": 4,
   "id": "30567669",
   "metadata": {},
   "outputs": [],
   "source": [
    "\n",
    "from src.plots import Plot"
   ]
  },
  {
   "cell_type": "code",
   "execution_count": 5,
   "id": "60b777ff",
   "metadata": {},
   "outputs": [],
   "source": [
    "plot = Plot()"
   ]
  },
  {
   "cell_type": "code",
   "execution_count": 6,
   "id": "f5c650c8",
   "metadata": {},
   "outputs": [],
   "source": [
    "# execute query from table xdr_data in database\n",
    "df = pd.read_csv('data/outliers_clean.csv')"
   ]
  },
  {
   "cell_type": "code",
   "execution_count": 7,
   "id": "a2027396",
   "metadata": {},
   "outputs": [
    {
     "data": {
      "text/html": [
       "<div>\n",
       "<style scoped>\n",
       "    .dataframe tbody tr th:only-of-type {\n",
       "        vertical-align: middle;\n",
       "    }\n",
       "\n",
       "    .dataframe tbody tr th {\n",
       "        vertical-align: top;\n",
       "    }\n",
       "\n",
       "    .dataframe thead th {\n",
       "        text-align: right;\n",
       "    }\n",
       "</style>\n",
       "<table border=\"1\" class=\"dataframe\">\n",
       "  <thead>\n",
       "    <tr style=\"text-align: right;\">\n",
       "      <th></th>\n",
       "      <th>bearer_id</th>\n",
       "      <th>start</th>\n",
       "      <th>start_ms</th>\n",
       "      <th>end</th>\n",
       "      <th>end_ms</th>\n",
       "      <th>dur._(ms)</th>\n",
       "      <th>imsi</th>\n",
       "      <th>msisdn/number</th>\n",
       "      <th>imei</th>\n",
       "      <th>last_location_name</th>\n",
       "      <th>...</th>\n",
       "      <th>youtube_dl_(bytes)</th>\n",
       "      <th>youtube_ul_(bytes)</th>\n",
       "      <th>netflix_dl_(bytes)</th>\n",
       "      <th>netflix_ul_(bytes)</th>\n",
       "      <th>gaming_dl_(bytes)</th>\n",
       "      <th>gaming_ul_(bytes)</th>\n",
       "      <th>other_dl_(bytes)</th>\n",
       "      <th>other_ul_(bytes)</th>\n",
       "      <th>total_ul_(bytes)</th>\n",
       "      <th>total_dl_(bytes)</th>\n",
       "    </tr>\n",
       "  </thead>\n",
       "  <tbody>\n",
       "    <tr>\n",
       "      <th>0</th>\n",
       "      <td>1.311448e+19</td>\n",
       "      <td>4/4/2019 12:01</td>\n",
       "      <td>770.0</td>\n",
       "      <td>4/25/2019 14:35</td>\n",
       "      <td>662.0</td>\n",
       "      <td>1823652.0</td>\n",
       "      <td>2.082014e+14</td>\n",
       "      <td>3.366496e+10</td>\n",
       "      <td>3.552121e+13</td>\n",
       "      <td>9.16456699548519E+015</td>\n",
       "      <td>...</td>\n",
       "      <td>15854611.0</td>\n",
       "      <td>2501332.0</td>\n",
       "      <td>8198936.0</td>\n",
       "      <td>9656251.0</td>\n",
       "      <td>278082303.0</td>\n",
       "      <td>14344150.0</td>\n",
       "      <td>171744450.0</td>\n",
       "      <td>8814393.0</td>\n",
       "      <td>36749741.0</td>\n",
       "      <td>308879636.0</td>\n",
       "    </tr>\n",
       "    <tr>\n",
       "      <th>1</th>\n",
       "      <td>1.311448e+19</td>\n",
       "      <td>4/9/2019 13:04</td>\n",
       "      <td>235.0</td>\n",
       "      <td>4/25/2019 8:15</td>\n",
       "      <td>606.0</td>\n",
       "      <td>1365104.0</td>\n",
       "      <td>2.082019e+14</td>\n",
       "      <td>3.368185e+10</td>\n",
       "      <td>3.579401e+13</td>\n",
       "      <td>L77566A</td>\n",
       "      <td>...</td>\n",
       "      <td>20247395.0</td>\n",
       "      <td>19111729.0</td>\n",
       "      <td>18338413.0</td>\n",
       "      <td>17227132.0</td>\n",
       "      <td>608750074.0</td>\n",
       "      <td>1170709.0</td>\n",
       "      <td>526904238.0</td>\n",
       "      <td>15055145.0</td>\n",
       "      <td>53800391.0</td>\n",
       "      <td>653384965.0</td>\n",
       "    </tr>\n",
       "    <tr>\n",
       "      <th>2</th>\n",
       "      <td>1.311448e+19</td>\n",
       "      <td>4/9/2019 17:42</td>\n",
       "      <td>1.0</td>\n",
       "      <td>4/25/2019 11:58</td>\n",
       "      <td>652.0</td>\n",
       "      <td>1361762.0</td>\n",
       "      <td>2.082003e+14</td>\n",
       "      <td>3.376063e+10</td>\n",
       "      <td>3.528151e+13</td>\n",
       "      <td>D42335A</td>\n",
       "      <td>...</td>\n",
       "      <td>19725661.0</td>\n",
       "      <td>14699576.0</td>\n",
       "      <td>17587794.0</td>\n",
       "      <td>6163408.0</td>\n",
       "      <td>229584621.0</td>\n",
       "      <td>395630.0</td>\n",
       "      <td>410692588.0</td>\n",
       "      <td>4215763.0</td>\n",
       "      <td>27883638.0</td>\n",
       "      <td>279807335.0</td>\n",
       "    </tr>\n",
       "    <tr>\n",
       "      <th>3</th>\n",
       "      <td>1.311448e+19</td>\n",
       "      <td>4/12/2019 20:10</td>\n",
       "      <td>565.0</td>\n",
       "      <td>4/25/2019 10:40</td>\n",
       "      <td>954.0</td>\n",
       "      <td>1089009.0</td>\n",
       "      <td>2.082014e+14</td>\n",
       "      <td>3.369980e+10</td>\n",
       "      <td>3.540701e+13</td>\n",
       "      <td>D88865A</td>\n",
       "      <td>...</td>\n",
       "      <td>15259380.0</td>\n",
       "      <td>18962873.0</td>\n",
       "      <td>17124581.0</td>\n",
       "      <td>415218.0</td>\n",
       "      <td>527707248.0</td>\n",
       "      <td>3529801.0</td>\n",
       "      <td>550709500.0</td>\n",
       "      <td>13910322.0</td>\n",
       "      <td>38542814.0</td>\n",
       "      <td>569138589.0</td>\n",
       "    </tr>\n",
       "    <tr>\n",
       "      <th>4</th>\n",
       "      <td>1.311448e+19</td>\n",
       "      <td>4/13/2019 8:41</td>\n",
       "      <td>612.0</td>\n",
       "      <td>4/25/2019 8:16</td>\n",
       "      <td>168.0</td>\n",
       "      <td>1035261.0</td>\n",
       "      <td>2.082014e+14</td>\n",
       "      <td>3.366537e+10</td>\n",
       "      <td>8.676270e+13</td>\n",
       "      <td>9.16456701058919E+015</td>\n",
       "      <td>...</td>\n",
       "      <td>7234465.0</td>\n",
       "      <td>1886295.0</td>\n",
       "      <td>13231006.0</td>\n",
       "      <td>17981760.0</td>\n",
       "      <td>44796223.0</td>\n",
       "      <td>14084934.0</td>\n",
       "      <td>803653557.0</td>\n",
       "      <td>10649768.0</td>\n",
       "      <td>47925246.0</td>\n",
       "      <td>70562047.0</td>\n",
       "    </tr>\n",
       "  </tbody>\n",
       "</table>\n",
       "<p>5 rows × 45 columns</p>\n",
       "</div>"
      ],
      "text/plain": [
       "      bearer_id            start  start_ms              end  end_ms  \\\n",
       "0  1.311448e+19   4/4/2019 12:01     770.0  4/25/2019 14:35   662.0   \n",
       "1  1.311448e+19   4/9/2019 13:04     235.0   4/25/2019 8:15   606.0   \n",
       "2  1.311448e+19   4/9/2019 17:42       1.0  4/25/2019 11:58   652.0   \n",
       "3  1.311448e+19  4/12/2019 20:10     565.0  4/25/2019 10:40   954.0   \n",
       "4  1.311448e+19   4/13/2019 8:41     612.0   4/25/2019 8:16   168.0   \n",
       "\n",
       "   dur._(ms)          imsi  msisdn/number          imei  \\\n",
       "0  1823652.0  2.082014e+14   3.366496e+10  3.552121e+13   \n",
       "1  1365104.0  2.082019e+14   3.368185e+10  3.579401e+13   \n",
       "2  1361762.0  2.082003e+14   3.376063e+10  3.528151e+13   \n",
       "3  1089009.0  2.082014e+14   3.369980e+10  3.540701e+13   \n",
       "4  1035261.0  2.082014e+14   3.366537e+10  8.676270e+13   \n",
       "\n",
       "      last_location_name  ...  youtube_dl_(bytes)  youtube_ul_(bytes)  \\\n",
       "0  9.16456699548519E+015  ...          15854611.0           2501332.0   \n",
       "1                L77566A  ...          20247395.0          19111729.0   \n",
       "2                D42335A  ...          19725661.0          14699576.0   \n",
       "3                D88865A  ...          15259380.0          18962873.0   \n",
       "4  9.16456701058919E+015  ...           7234465.0           1886295.0   \n",
       "\n",
       "   netflix_dl_(bytes)  netflix_ul_(bytes)  gaming_dl_(bytes)  \\\n",
       "0           8198936.0           9656251.0        278082303.0   \n",
       "1          18338413.0          17227132.0        608750074.0   \n",
       "2          17587794.0           6163408.0        229584621.0   \n",
       "3          17124581.0            415218.0        527707248.0   \n",
       "4          13231006.0          17981760.0         44796223.0   \n",
       "\n",
       "   gaming_ul_(bytes)  other_dl_(bytes)  other_ul_(bytes)  total_ul_(bytes)  \\\n",
       "0         14344150.0       171744450.0         8814393.0        36749741.0   \n",
       "1          1170709.0       526904238.0        15055145.0        53800391.0   \n",
       "2           395630.0       410692588.0         4215763.0        27883638.0   \n",
       "3          3529801.0       550709500.0        13910322.0        38542814.0   \n",
       "4         14084934.0       803653557.0        10649768.0        47925246.0   \n",
       "\n",
       "   total_dl_(bytes)  \n",
       "0       308879636.0  \n",
       "1       653384965.0  \n",
       "2       279807335.0  \n",
       "3       569138589.0  \n",
       "4        70562047.0  \n",
       "\n",
       "[5 rows x 45 columns]"
      ]
     },
     "execution_count": 7,
     "metadata": {},
     "output_type": "execute_result"
    }
   ],
   "source": [
    "# show first 5 rows of the dataframe\n",
    "df.head()"
   ]
  },
  {
   "cell_type": "code",
   "execution_count": 8,
   "id": "c3813223",
   "metadata": {},
   "outputs": [
    {
     "data": {
      "text/plain": [
       "Index(['bearer_id', 'start', 'start_ms', 'end', 'end_ms', 'dur._(ms)', 'imsi',\n",
       "       'msisdn/number', 'imei', 'last_location_name', 'avg_rtt_dl_(ms)',\n",
       "       'avg_rtt_ul_(ms)', 'avg_bearer_tp_dl_(kbps)', 'avg_bearer_tp_ul_(kbps)',\n",
       "       'dl_tp_<_50_kbps_(%)', '50_kbps_<_dl_tp_<_250_kbps_(%)',\n",
       "       '250_kbps_<_dl_tp_<_1_mbps_(%)', 'dl_tp_>_1_mbps_(%)',\n",
       "       'ul_tp_<_10_kbps_(%)', '10_kbps_<_ul_tp_<_50_kbps_(%)',\n",
       "       '50_kbps_<_ul_tp_<_300_kbps_(%)', 'ul_tp_>_300_kbps_(%)',\n",
       "       'activity_duration_dl_(ms)', 'activity_duration_ul_(ms)', 'dur._(ms).1',\n",
       "       'handset_manufacturer', 'handset_type', 'nb_of_sec_with_vol_dl_<_6250b',\n",
       "       'nb_of_sec_with_vol_ul_<_1250b', 'social_media_dl_(bytes)',\n",
       "       'social_media_ul_(bytes)', 'google_dl_(bytes)', 'google_ul_(bytes)',\n",
       "       'email_dl_(bytes)', 'email_ul_(bytes)', 'youtube_dl_(bytes)',\n",
       "       'youtube_ul_(bytes)', 'netflix_dl_(bytes)', 'netflix_ul_(bytes)',\n",
       "       'gaming_dl_(bytes)', 'gaming_ul_(bytes)', 'other_dl_(bytes)',\n",
       "       'other_ul_(bytes)', 'total_ul_(bytes)', 'total_dl_(bytes)'],\n",
       "      dtype='object')"
      ]
     },
     "execution_count": 8,
     "metadata": {},
     "output_type": "execute_result"
    }
   ],
   "source": [
    "# check column names\n",
    "df.columns"
   ]
  },
  {
   "cell_type": "code",
   "execution_count": 9,
   "id": "14b3bd4b",
   "metadata": {},
   "outputs": [
    {
     "data": {
      "text/plain": [
       "0"
      ]
     },
     "execution_count": 9,
     "metadata": {},
     "output_type": "execute_result"
    }
   ],
   "source": [
    "df.isna().sum().sum()"
   ]
  },
  {
   "cell_type": "code",
   "execution_count": 10,
   "id": "45f6c0f7",
   "metadata": {},
   "outputs": [
    {
     "name": "stdout",
     "output_type": "stream",
     "text": [
      "<class 'pandas.core.frame.DataFrame'>\n",
      "RangeIndex: 141014 entries, 0 to 141013\n",
      "Data columns (total 45 columns):\n",
      " #   Column                          Non-Null Count   Dtype  \n",
      "---  ------                          --------------   -----  \n",
      " 0   bearer_id                       141014 non-null  float64\n",
      " 1   start                           141014 non-null  object \n",
      " 2   start_ms                        141014 non-null  float64\n",
      " 3   end                             141014 non-null  object \n",
      " 4   end_ms                          141014 non-null  float64\n",
      " 5   dur._(ms)                       141014 non-null  float64\n",
      " 6   imsi                            141014 non-null  float64\n",
      " 7   msisdn/number                   141014 non-null  float64\n",
      " 8   imei                            141014 non-null  float64\n",
      " 9   last_location_name              141014 non-null  object \n",
      " 10  avg_rtt_dl_(ms)                 141014 non-null  float64\n",
      " 11  avg_rtt_ul_(ms)                 141014 non-null  float64\n",
      " 12  avg_bearer_tp_dl_(kbps)         141014 non-null  float64\n",
      " 13  avg_bearer_tp_ul_(kbps)         141014 non-null  float64\n",
      " 14  dl_tp_<_50_kbps_(%)             141014 non-null  float64\n",
      " 15  50_kbps_<_dl_tp_<_250_kbps_(%)  141014 non-null  float64\n",
      " 16  250_kbps_<_dl_tp_<_1_mbps_(%)   141014 non-null  float64\n",
      " 17  dl_tp_>_1_mbps_(%)              141014 non-null  float64\n",
      " 18  ul_tp_<_10_kbps_(%)             141014 non-null  float64\n",
      " 19  10_kbps_<_ul_tp_<_50_kbps_(%)   141014 non-null  float64\n",
      " 20  50_kbps_<_ul_tp_<_300_kbps_(%)  141014 non-null  float64\n",
      " 21  ul_tp_>_300_kbps_(%)            141014 non-null  float64\n",
      " 22  activity_duration_dl_(ms)       141014 non-null  float64\n",
      " 23  activity_duration_ul_(ms)       141014 non-null  float64\n",
      " 24  dur._(ms).1                     141014 non-null  float64\n",
      " 25  handset_manufacturer            141014 non-null  object \n",
      " 26  handset_type                    141014 non-null  object \n",
      " 27  nb_of_sec_with_vol_dl_<_6250b   141014 non-null  float64\n",
      " 28  nb_of_sec_with_vol_ul_<_1250b   141014 non-null  float64\n",
      " 29  social_media_dl_(bytes)         141014 non-null  float64\n",
      " 30  social_media_ul_(bytes)         141014 non-null  float64\n",
      " 31  google_dl_(bytes)               141014 non-null  float64\n",
      " 32  google_ul_(bytes)               141014 non-null  float64\n",
      " 33  email_dl_(bytes)                141014 non-null  float64\n",
      " 34  email_ul_(bytes)                141014 non-null  float64\n",
      " 35  youtube_dl_(bytes)              141014 non-null  float64\n",
      " 36  youtube_ul_(bytes)              141014 non-null  float64\n",
      " 37  netflix_dl_(bytes)              141014 non-null  float64\n",
      " 38  netflix_ul_(bytes)              141014 non-null  float64\n",
      " 39  gaming_dl_(bytes)               141014 non-null  float64\n",
      " 40  gaming_ul_(bytes)               141014 non-null  float64\n",
      " 41  other_dl_(bytes)                141014 non-null  float64\n",
      " 42  other_ul_(bytes)                141014 non-null  float64\n",
      " 43  total_ul_(bytes)                141014 non-null  float64\n",
      " 44  total_dl_(bytes)                141014 non-null  float64\n",
      "dtypes: float64(40), object(5)\n",
      "memory usage: 48.4+ MB\n"
     ]
    }
   ],
   "source": [
    "# check null values\n",
    "df.info()"
   ]
  },
  {
   "cell_type": "code",
   "execution_count": 11,
   "id": "5c0a0906",
   "metadata": {},
   "outputs": [
    {
     "data": {
      "text/plain": [
       "handset_type                  handset_manufacturer\n",
       "Huawei B528S-23A              Huawei                  19752\n",
       "Apple iPhone 6S (A1688)       Apple                    9419\n",
       "Apple iPhone 6 (A1586)        Apple                    9023\n",
       "Apple iPhone 7 (A1778)        Apple                    6326\n",
       "Apple iPhone Se (A1723)       Apple                    5187\n",
       "Apple iPhone 8 (A1905)        Apple                    4993\n",
       "Apple iPhone Xr (A2105)       Apple                    4568\n",
       "Samsung Galaxy S8 (Sm-G950F)  Samsung                  4520\n",
       "Apple iPhone X (A1901)        Apple                    3813\n",
       "Samsung Galaxy A5 Sm-A520F    Samsung                  3724\n",
       "Name: count, dtype: int64"
      ]
     },
     "execution_count": 11,
     "metadata": {},
     "output_type": "execute_result"
    }
   ],
   "source": [
    "df[['handset_type', 'handset_manufacturer']].value_counts().head(10)"
   ]
  },
  {
   "cell_type": "code",
   "execution_count": 12,
   "id": "36dd2918",
   "metadata": {},
   "outputs": [],
   "source": [
    "handset = df[['handset_manufacturer', 'handset_type']]"
   ]
  },
  {
   "cell_type": "code",
   "execution_count": 13,
   "id": "0fa4a618",
   "metadata": {},
   "outputs": [
    {
     "data": {
      "text/plain": [
       "handset_manufacturer    0\n",
       "handset_type            0\n",
       "dtype: int64"
      ]
     },
     "execution_count": 13,
     "metadata": {},
     "output_type": "execute_result"
    }
   ],
   "source": [
    "# clean_undefined_handset.dropna(inplace=False, how='all')\n",
    "handset.isnull().sum()"
   ]
  },
  {
   "cell_type": "code",
   "execution_count": 14,
   "id": "0d749248",
   "metadata": {},
   "outputs": [
    {
     "data": {
      "application/vnd.plotly.v1+json": {
       "config": {
        "plotlyServerURL": "https://plot.ly"
       },
       "data": [
        {
         "alignmentgroup": "True",
         "customdata": [
          [
           "Huawei"
          ],
          [
           "Apple"
          ],
          [
           "Apple"
          ],
          [
           "Apple"
          ],
          [
           "Apple"
          ],
          [
           "Apple"
          ],
          [
           "Apple"
          ],
          [
           "Samsung"
          ],
          [
           "Apple"
          ],
          [
           "Samsung"
          ]
         ],
         "hovertemplate": "Number of Users=%{marker.color}<br>handset_type=%{y}<br>handset_manufacturer=%{customdata[0]}<extra></extra>",
         "legendgroup": "",
         "marker": {
          "color": [
           19752,
           9419,
           9023,
           6326,
           5187,
           4993,
           4568,
           4520,
           3813,
           3724
          ],
          "coloraxis": "coloraxis",
          "pattern": {
           "shape": ""
          }
         },
         "name": "",
         "offsetgroup": "",
         "orientation": "h",
         "showlegend": false,
         "textposition": "auto",
         "type": "bar",
         "x": [
          19752,
          9419,
          9023,
          6326,
          5187,
          4993,
          4568,
          4520,
          3813,
          3724
         ],
         "xaxis": "x",
         "y": [
          "Huawei B528S-23A",
          "Apple iPhone 6S (A1688)",
          "Apple iPhone 6 (A1586)",
          "Apple iPhone 7 (A1778)",
          "Apple iPhone Se (A1723)",
          "Apple iPhone 8 (A1905)",
          "Apple iPhone Xr (A2105)",
          "Samsung Galaxy S8 (Sm-G950F)",
          "Apple iPhone X (A1901)",
          "Samsung Galaxy A5 Sm-A520F"
         ],
         "yaxis": "y"
        }
       ],
       "layout": {
        "barmode": "relative",
        "coloraxis": {
         "colorbar": {
          "title": {
           "text": "Number of Users"
          }
         },
         "colorscale": [
          [
           0,
           "#0d0887"
          ],
          [
           0.1111111111111111,
           "#46039f"
          ],
          [
           0.2222222222222222,
           "#7201a8"
          ],
          [
           0.3333333333333333,
           "#9c179e"
          ],
          [
           0.4444444444444444,
           "#bd3786"
          ],
          [
           0.5555555555555556,
           "#d8576b"
          ],
          [
           0.6666666666666666,
           "#ed7953"
          ],
          [
           0.7777777777777778,
           "#fb9f3a"
          ],
          [
           0.8888888888888888,
           "#fdca26"
          ],
          [
           1,
           "#f0f921"
          ]
         ]
        },
        "legend": {
         "tracegroupgap": 0
        },
        "template": {
         "data": {
          "bar": [
           {
            "error_x": {
             "color": "#2a3f5f"
            },
            "error_y": {
             "color": "#2a3f5f"
            },
            "marker": {
             "line": {
              "color": "#E5ECF6",
              "width": 0.5
             },
             "pattern": {
              "fillmode": "overlay",
              "size": 10,
              "solidity": 0.2
             }
            },
            "type": "bar"
           }
          ],
          "barpolar": [
           {
            "marker": {
             "line": {
              "color": "#E5ECF6",
              "width": 0.5
             },
             "pattern": {
              "fillmode": "overlay",
              "size": 10,
              "solidity": 0.2
             }
            },
            "type": "barpolar"
           }
          ],
          "carpet": [
           {
            "aaxis": {
             "endlinecolor": "#2a3f5f",
             "gridcolor": "white",
             "linecolor": "white",
             "minorgridcolor": "white",
             "startlinecolor": "#2a3f5f"
            },
            "baxis": {
             "endlinecolor": "#2a3f5f",
             "gridcolor": "white",
             "linecolor": "white",
             "minorgridcolor": "white",
             "startlinecolor": "#2a3f5f"
            },
            "type": "carpet"
           }
          ],
          "choropleth": [
           {
            "colorbar": {
             "outlinewidth": 0,
             "ticks": ""
            },
            "type": "choropleth"
           }
          ],
          "contour": [
           {
            "colorbar": {
             "outlinewidth": 0,
             "ticks": ""
            },
            "colorscale": [
             [
              0,
              "#0d0887"
             ],
             [
              0.1111111111111111,
              "#46039f"
             ],
             [
              0.2222222222222222,
              "#7201a8"
             ],
             [
              0.3333333333333333,
              "#9c179e"
             ],
             [
              0.4444444444444444,
              "#bd3786"
             ],
             [
              0.5555555555555556,
              "#d8576b"
             ],
             [
              0.6666666666666666,
              "#ed7953"
             ],
             [
              0.7777777777777778,
              "#fb9f3a"
             ],
             [
              0.8888888888888888,
              "#fdca26"
             ],
             [
              1,
              "#f0f921"
             ]
            ],
            "type": "contour"
           }
          ],
          "contourcarpet": [
           {
            "colorbar": {
             "outlinewidth": 0,
             "ticks": ""
            },
            "type": "contourcarpet"
           }
          ],
          "heatmap": [
           {
            "colorbar": {
             "outlinewidth": 0,
             "ticks": ""
            },
            "colorscale": [
             [
              0,
              "#0d0887"
             ],
             [
              0.1111111111111111,
              "#46039f"
             ],
             [
              0.2222222222222222,
              "#7201a8"
             ],
             [
              0.3333333333333333,
              "#9c179e"
             ],
             [
              0.4444444444444444,
              "#bd3786"
             ],
             [
              0.5555555555555556,
              "#d8576b"
             ],
             [
              0.6666666666666666,
              "#ed7953"
             ],
             [
              0.7777777777777778,
              "#fb9f3a"
             ],
             [
              0.8888888888888888,
              "#fdca26"
             ],
             [
              1,
              "#f0f921"
             ]
            ],
            "type": "heatmap"
           }
          ],
          "heatmapgl": [
           {
            "colorbar": {
             "outlinewidth": 0,
             "ticks": ""
            },
            "colorscale": [
             [
              0,
              "#0d0887"
             ],
             [
              0.1111111111111111,
              "#46039f"
             ],
             [
              0.2222222222222222,
              "#7201a8"
             ],
             [
              0.3333333333333333,
              "#9c179e"
             ],
             [
              0.4444444444444444,
              "#bd3786"
             ],
             [
              0.5555555555555556,
              "#d8576b"
             ],
             [
              0.6666666666666666,
              "#ed7953"
             ],
             [
              0.7777777777777778,
              "#fb9f3a"
             ],
             [
              0.8888888888888888,
              "#fdca26"
             ],
             [
              1,
              "#f0f921"
             ]
            ],
            "type": "heatmapgl"
           }
          ],
          "histogram": [
           {
            "marker": {
             "pattern": {
              "fillmode": "overlay",
              "size": 10,
              "solidity": 0.2
             }
            },
            "type": "histogram"
           }
          ],
          "histogram2d": [
           {
            "colorbar": {
             "outlinewidth": 0,
             "ticks": ""
            },
            "colorscale": [
             [
              0,
              "#0d0887"
             ],
             [
              0.1111111111111111,
              "#46039f"
             ],
             [
              0.2222222222222222,
              "#7201a8"
             ],
             [
              0.3333333333333333,
              "#9c179e"
             ],
             [
              0.4444444444444444,
              "#bd3786"
             ],
             [
              0.5555555555555556,
              "#d8576b"
             ],
             [
              0.6666666666666666,
              "#ed7953"
             ],
             [
              0.7777777777777778,
              "#fb9f3a"
             ],
             [
              0.8888888888888888,
              "#fdca26"
             ],
             [
              1,
              "#f0f921"
             ]
            ],
            "type": "histogram2d"
           }
          ],
          "histogram2dcontour": [
           {
            "colorbar": {
             "outlinewidth": 0,
             "ticks": ""
            },
            "colorscale": [
             [
              0,
              "#0d0887"
             ],
             [
              0.1111111111111111,
              "#46039f"
             ],
             [
              0.2222222222222222,
              "#7201a8"
             ],
             [
              0.3333333333333333,
              "#9c179e"
             ],
             [
              0.4444444444444444,
              "#bd3786"
             ],
             [
              0.5555555555555556,
              "#d8576b"
             ],
             [
              0.6666666666666666,
              "#ed7953"
             ],
             [
              0.7777777777777778,
              "#fb9f3a"
             ],
             [
              0.8888888888888888,
              "#fdca26"
             ],
             [
              1,
              "#f0f921"
             ]
            ],
            "type": "histogram2dcontour"
           }
          ],
          "mesh3d": [
           {
            "colorbar": {
             "outlinewidth": 0,
             "ticks": ""
            },
            "type": "mesh3d"
           }
          ],
          "parcoords": [
           {
            "line": {
             "colorbar": {
              "outlinewidth": 0,
              "ticks": ""
             }
            },
            "type": "parcoords"
           }
          ],
          "pie": [
           {
            "automargin": true,
            "type": "pie"
           }
          ],
          "scatter": [
           {
            "fillpattern": {
             "fillmode": "overlay",
             "size": 10,
             "solidity": 0.2
            },
            "type": "scatter"
           }
          ],
          "scatter3d": [
           {
            "line": {
             "colorbar": {
              "outlinewidth": 0,
              "ticks": ""
             }
            },
            "marker": {
             "colorbar": {
              "outlinewidth": 0,
              "ticks": ""
             }
            },
            "type": "scatter3d"
           }
          ],
          "scattercarpet": [
           {
            "marker": {
             "colorbar": {
              "outlinewidth": 0,
              "ticks": ""
             }
            },
            "type": "scattercarpet"
           }
          ],
          "scattergeo": [
           {
            "marker": {
             "colorbar": {
              "outlinewidth": 0,
              "ticks": ""
             }
            },
            "type": "scattergeo"
           }
          ],
          "scattergl": [
           {
            "marker": {
             "colorbar": {
              "outlinewidth": 0,
              "ticks": ""
             }
            },
            "type": "scattergl"
           }
          ],
          "scattermapbox": [
           {
            "marker": {
             "colorbar": {
              "outlinewidth": 0,
              "ticks": ""
             }
            },
            "type": "scattermapbox"
           }
          ],
          "scatterpolar": [
           {
            "marker": {
             "colorbar": {
              "outlinewidth": 0,
              "ticks": ""
             }
            },
            "type": "scatterpolar"
           }
          ],
          "scatterpolargl": [
           {
            "marker": {
             "colorbar": {
              "outlinewidth": 0,
              "ticks": ""
             }
            },
            "type": "scatterpolargl"
           }
          ],
          "scatterternary": [
           {
            "marker": {
             "colorbar": {
              "outlinewidth": 0,
              "ticks": ""
             }
            },
            "type": "scatterternary"
           }
          ],
          "surface": [
           {
            "colorbar": {
             "outlinewidth": 0,
             "ticks": ""
            },
            "colorscale": [
             [
              0,
              "#0d0887"
             ],
             [
              0.1111111111111111,
              "#46039f"
             ],
             [
              0.2222222222222222,
              "#7201a8"
             ],
             [
              0.3333333333333333,
              "#9c179e"
             ],
             [
              0.4444444444444444,
              "#bd3786"
             ],
             [
              0.5555555555555556,
              "#d8576b"
             ],
             [
              0.6666666666666666,
              "#ed7953"
             ],
             [
              0.7777777777777778,
              "#fb9f3a"
             ],
             [
              0.8888888888888888,
              "#fdca26"
             ],
             [
              1,
              "#f0f921"
             ]
            ],
            "type": "surface"
           }
          ],
          "table": [
           {
            "cells": {
             "fill": {
              "color": "#EBF0F8"
             },
             "line": {
              "color": "white"
             }
            },
            "header": {
             "fill": {
              "color": "#C8D4E3"
             },
             "line": {
              "color": "white"
             }
            },
            "type": "table"
           }
          ]
         },
         "layout": {
          "annotationdefaults": {
           "arrowcolor": "#2a3f5f",
           "arrowhead": 0,
           "arrowwidth": 1
          },
          "autotypenumbers": "strict",
          "coloraxis": {
           "colorbar": {
            "outlinewidth": 0,
            "ticks": ""
           }
          },
          "colorscale": {
           "diverging": [
            [
             0,
             "#8e0152"
            ],
            [
             0.1,
             "#c51b7d"
            ],
            [
             0.2,
             "#de77ae"
            ],
            [
             0.3,
             "#f1b6da"
            ],
            [
             0.4,
             "#fde0ef"
            ],
            [
             0.5,
             "#f7f7f7"
            ],
            [
             0.6,
             "#e6f5d0"
            ],
            [
             0.7,
             "#b8e186"
            ],
            [
             0.8,
             "#7fbc41"
            ],
            [
             0.9,
             "#4d9221"
            ],
            [
             1,
             "#276419"
            ]
           ],
           "sequential": [
            [
             0,
             "#0d0887"
            ],
            [
             0.1111111111111111,
             "#46039f"
            ],
            [
             0.2222222222222222,
             "#7201a8"
            ],
            [
             0.3333333333333333,
             "#9c179e"
            ],
            [
             0.4444444444444444,
             "#bd3786"
            ],
            [
             0.5555555555555556,
             "#d8576b"
            ],
            [
             0.6666666666666666,
             "#ed7953"
            ],
            [
             0.7777777777777778,
             "#fb9f3a"
            ],
            [
             0.8888888888888888,
             "#fdca26"
            ],
            [
             1,
             "#f0f921"
            ]
           ],
           "sequentialminus": [
            [
             0,
             "#0d0887"
            ],
            [
             0.1111111111111111,
             "#46039f"
            ],
            [
             0.2222222222222222,
             "#7201a8"
            ],
            [
             0.3333333333333333,
             "#9c179e"
            ],
            [
             0.4444444444444444,
             "#bd3786"
            ],
            [
             0.5555555555555556,
             "#d8576b"
            ],
            [
             0.6666666666666666,
             "#ed7953"
            ],
            [
             0.7777777777777778,
             "#fb9f3a"
            ],
            [
             0.8888888888888888,
             "#fdca26"
            ],
            [
             1,
             "#f0f921"
            ]
           ]
          },
          "colorway": [
           "#636efa",
           "#EF553B",
           "#00cc96",
           "#ab63fa",
           "#FFA15A",
           "#19d3f3",
           "#FF6692",
           "#B6E880",
           "#FF97FF",
           "#FECB52"
          ],
          "font": {
           "color": "#2a3f5f"
          },
          "geo": {
           "bgcolor": "white",
           "lakecolor": "white",
           "landcolor": "#E5ECF6",
           "showlakes": true,
           "showland": true,
           "subunitcolor": "white"
          },
          "hoverlabel": {
           "align": "left"
          },
          "hovermode": "closest",
          "mapbox": {
           "style": "light"
          },
          "paper_bgcolor": "white",
          "plot_bgcolor": "#E5ECF6",
          "polar": {
           "angularaxis": {
            "gridcolor": "white",
            "linecolor": "white",
            "ticks": ""
           },
           "bgcolor": "#E5ECF6",
           "radialaxis": {
            "gridcolor": "white",
            "linecolor": "white",
            "ticks": ""
           }
          },
          "scene": {
           "xaxis": {
            "backgroundcolor": "#E5ECF6",
            "gridcolor": "white",
            "gridwidth": 2,
            "linecolor": "white",
            "showbackground": true,
            "ticks": "",
            "zerolinecolor": "white"
           },
           "yaxis": {
            "backgroundcolor": "#E5ECF6",
            "gridcolor": "white",
            "gridwidth": 2,
            "linecolor": "white",
            "showbackground": true,
            "ticks": "",
            "zerolinecolor": "white"
           },
           "zaxis": {
            "backgroundcolor": "#E5ECF6",
            "gridcolor": "white",
            "gridwidth": 2,
            "linecolor": "white",
            "showbackground": true,
            "ticks": "",
            "zerolinecolor": "white"
           }
          },
          "shapedefaults": {
           "line": {
            "color": "#2a3f5f"
           }
          },
          "ternary": {
           "aaxis": {
            "gridcolor": "white",
            "linecolor": "white",
            "ticks": ""
           },
           "baxis": {
            "gridcolor": "white",
            "linecolor": "white",
            "ticks": ""
           },
           "bgcolor": "#E5ECF6",
           "caxis": {
            "gridcolor": "white",
            "linecolor": "white",
            "ticks": ""
           }
          },
          "title": {
           "x": 0.05
          },
          "xaxis": {
           "automargin": true,
           "gridcolor": "white",
           "linecolor": "white",
           "ticks": "",
           "title": {
            "standoff": 15
           },
           "zerolinecolor": "white",
           "zerolinewidth": 2
          },
          "yaxis": {
           "automargin": true,
           "gridcolor": "white",
           "linecolor": "white",
           "ticks": "",
           "title": {
            "standoff": 15
           },
           "zerolinecolor": "white",
           "zerolinewidth": 2
          }
         }
        },
        "title": {
         "text": "Top 10 Handset Types Used"
        },
        "xaxis": {
         "anchor": "y",
         "domain": [
          0,
          1
         ],
         "title": {
          "text": "Number of Users"
         }
        },
        "yaxis": {
         "anchor": "x",
         "categoryorder": "total ascending",
         "domain": [
          0,
          1
         ],
         "title": {
          "text": "handset_type"
         }
        }
       }
      }
     },
     "metadata": {},
     "output_type": "display_data"
    }
   ],
   "source": [
    "grouped_df = handset.groupby(['handset_type', 'handset_manufacturer']).size().reset_index(name='Number of Users')\n",
    "\n",
    "# Sort and select top 10\n",
    "top_10_handsets = grouped_df.sort_values('Number of Users', ascending=False).head(10)\n",
    "\n",
    "# Create interactive bar plot\n",
    "fig = px.bar(top_10_handsets, x='Number of Users', y='handset_type', \n",
    "             hover_data=['handset_manufacturer'], color='Number of Users',\n",
    "             labels={'Handset Type':'Handset Type', 'Number of Users':'Number of Users'},\n",
    "             title='Top 10 Handset Types Used',\n",
    "             orientation='h')\n",
    "\n",
    "fig.update_layout(yaxis={'categoryorder':'total ascending'})\n",
    "fig.show()"
   ]
  },
  {
   "cell_type": "code",
   "execution_count": 15,
   "id": "6b484425",
   "metadata": {},
   "outputs": [
    {
     "data": {
      "text/html": [
       "<div>\n",
       "<style scoped>\n",
       "    .dataframe tbody tr th:only-of-type {\n",
       "        vertical-align: middle;\n",
       "    }\n",
       "\n",
       "    .dataframe tbody tr th {\n",
       "        vertical-align: top;\n",
       "    }\n",
       "\n",
       "    .dataframe thead th {\n",
       "        text-align: right;\n",
       "    }\n",
       "</style>\n",
       "<table border=\"1\" class=\"dataframe\">\n",
       "  <thead>\n",
       "    <tr style=\"text-align: right;\">\n",
       "      <th></th>\n",
       "      <th>handset_manufacturer</th>\n",
       "      <th>handset_type</th>\n",
       "    </tr>\n",
       "  </thead>\n",
       "  <tbody>\n",
       "    <tr>\n",
       "      <th>0</th>\n",
       "      <td>Samsung</td>\n",
       "      <td>Samsung Galaxy A5 Sm-A520F</td>\n",
       "    </tr>\n",
       "    <tr>\n",
       "      <th>1</th>\n",
       "      <td>Samsung</td>\n",
       "      <td>Samsung Galaxy J5 (Sm-J530)</td>\n",
       "    </tr>\n",
       "    <tr>\n",
       "      <th>2</th>\n",
       "      <td>Samsung</td>\n",
       "      <td>Samsung Galaxy A8 (2018)</td>\n",
       "    </tr>\n",
       "    <tr>\n",
       "      <th>3</th>\n",
       "      <td>Samsung</td>\n",
       "      <td>Samsung Sm-G390F</td>\n",
       "    </tr>\n",
       "    <tr>\n",
       "      <th>4</th>\n",
       "      <td>Huawei</td>\n",
       "      <td>Huawei Mate 20 Lite</td>\n",
       "    </tr>\n",
       "  </tbody>\n",
       "</table>\n",
       "</div>"
      ],
      "text/plain": [
       "  handset_manufacturer                 handset_type\n",
       "0              Samsung   Samsung Galaxy A5 Sm-A520F\n",
       "1              Samsung  Samsung Galaxy J5 (Sm-J530)\n",
       "2              Samsung     Samsung Galaxy A8 (2018)\n",
       "3              Samsung             Samsung Sm-G390F\n",
       "4               Huawei          Huawei Mate 20 Lite"
      ]
     },
     "execution_count": 15,
     "metadata": {},
     "output_type": "execute_result"
    }
   ],
   "source": [
    "handset['handset_manufacturer'].isna().sum()\n",
    "handset.head()"
   ]
  },
  {
   "cell_type": "code",
   "execution_count": 16,
   "id": "3c2bffe0",
   "metadata": {},
   "outputs": [
    {
     "data": {
      "image/png": "[encoded data removed]",
      "text/plain": [
       "<Figure size 800x800 with 1 Axes>"
      ]
     },
     "metadata": {},
     "output_type": "display_data"
    }
   ],
   "source": [
    "\n",
    "manufacturer_counts = df['handset_manufacturer'].value_counts().head(3)\n",
    "plot.plot_pie(manufacturer_counts, title='Top 3 Handset Manufacturers by Users', label=manufacturer_counts.index)"
   ]
  },
  {
   "cell_type": "code",
   "execution_count": 17,
   "id": "2f5f2115",
   "metadata": {},
   "outputs": [
    {
     "data": {
      "text/plain": [
       "handset_manufacturer\n",
       "Apple      60137\n",
       "Samsung    40839\n",
       "Huawei     34423\n",
       "Name: count, dtype: int64"
      ]
     },
     "execution_count": 17,
     "metadata": {},
     "output_type": "execute_result"
    }
   ],
   "source": [
    "manufacturer_counts"
   ]
  },
  {
   "cell_type": "code",
   "execution_count": 18,
   "id": "247dc1ae",
   "metadata": {},
   "outputs": [
    {
     "name": "stderr",
     "output_type": "stream",
     "text": [
      "c:\\Users\\user\\Downloads\\ten_academy\\week1\\Week1-10Academy-User-Analysis\\src\\plots.py:29: FutureWarning:\n",
      "\n",
      "\n",
      "\n",
      "Passing `palette` without assigning `hue` is deprecated and will be removed in v0.14.0. Assign the `y` variable to `hue` and set `legend=False` for the same effect.\n",
      "\n",
      "\n"
     ]
    },
    {
     "data": {
      "image/png": "[encoded data removed]",
      "text/plain": [
       "<Figure size 1200x600 with 1 Axes>"
      ]
     },
     "metadata": {},
     "output_type": "display_data"
    }
   ],
   "source": [
    "top_manufacturers = df['handset_manufacturer'].value_counts().head(3).index\n",
    "\n",
    "# Filter the DataFrame to include only the top 3 manufacturers\n",
    "df_top_manufacturers = df[df['handset_manufacturer'].isin(top_manufacturers)]\n",
    "\n",
    "# Get the top 5 handsets for each manufacturer\n",
    "top_handsets_per_manufacturer = (\n",
    "    df_top_manufacturers\n",
    "    .groupby('handset_manufacturer')['handset_type']\n",
    "    .value_counts()\n",
    "    .groupby(level=0, group_keys=False)\n",
    "    .nlargest(5)\n",
    "    .reset_index(name='Count')\n",
    ")\n",
    "\n",
    "plot.plot_bar(x=top_handsets_per_manufacturer['Count'], y=top_handsets_per_manufacturer['handset_type'], xlabel='Number of Users', title='Top 5 Handsets per Top 3 Handset Manufacturers',ylabel='handset_type',palette='Blues_d')"
   ]
  },
  {
   "cell_type": "markdown",
   "id": "afb5dbec",
   "metadata": {},
   "source": [
    "## Recommendations for Marketing Teams\n",
    "- Target Popular Handsets: With more clarity in the dataset, marketing teams can focus on the most popular handset types for promotions and campaigns.\n",
    "- Cross-Brand Promotions: Since Apple, Samsung, and Huawei remain the top manufacturers, consider campaigns that cater to users from all three brands.\n",
    "- User Demographics: Given the popularity of iPhone models, the marketing team can analyze demographic patterns to target specific age groups or regions.\n",
    "- Device-Specific Marketing: The updated data allows for more accurate targeting based on specific handset models, improving campaign effectiveness."
   ]
  },
  {
   "cell_type": "code",
   "execution_count": 19,
   "id": "496a3053",
   "metadata": {},
   "outputs": [
    {
     "data": {
      "text/html": [
       "<div>\n",
       "<style scoped>\n",
       "    .dataframe tbody tr th:only-of-type {\n",
       "        vertical-align: middle;\n",
       "    }\n",
       "\n",
       "    .dataframe tbody tr th {\n",
       "        vertical-align: top;\n",
       "    }\n",
       "\n",
       "    .dataframe thead th {\n",
       "        text-align: right;\n",
       "    }\n",
       "</style>\n",
       "<table border=\"1\" class=\"dataframe\">\n",
       "  <thead>\n",
       "    <tr style=\"text-align: right;\">\n",
       "      <th></th>\n",
       "      <th>number_of_xdr_sessions</th>\n",
       "      <th>total_session_duration</th>\n",
       "      <th>total_download_data</th>\n",
       "      <th>total_upload_data</th>\n",
       "      <th>total_data_volume</th>\n",
       "    </tr>\n",
       "    <tr>\n",
       "      <th>msisdn/number</th>\n",
       "      <th></th>\n",
       "      <th></th>\n",
       "      <th></th>\n",
       "      <th></th>\n",
       "      <th></th>\n",
       "    </tr>\n",
       "  </thead>\n",
       "  <tbody>\n",
       "    <tr>\n",
       "      <th>3.360100e+10</th>\n",
       "      <td>1</td>\n",
       "      <td>116720.0</td>\n",
       "      <td>8.426375e+08</td>\n",
       "      <td>36053108.0</td>\n",
       "      <td>8.786906e+08</td>\n",
       "    </tr>\n",
       "    <tr>\n",
       "      <th>3.360100e+10</th>\n",
       "      <td>1</td>\n",
       "      <td>181230.0</td>\n",
       "      <td>1.207552e+08</td>\n",
       "      <td>36104459.0</td>\n",
       "      <td>1.568596e+08</td>\n",
       "    </tr>\n",
       "    <tr>\n",
       "      <th>3.360101e+10</th>\n",
       "      <td>1</td>\n",
       "      <td>49878.0</td>\n",
       "      <td>4.019932e+08</td>\n",
       "      <td>20327526.0</td>\n",
       "      <td>4.223207e+08</td>\n",
       "    </tr>\n",
       "    <tr>\n",
       "      <th>3.360101e+10</th>\n",
       "      <td>2</td>\n",
       "      <td>37104.0</td>\n",
       "      <td>1.363130e+09</td>\n",
       "      <td>94280527.0</td>\n",
       "      <td>1.457411e+09</td>\n",
       "    </tr>\n",
       "    <tr>\n",
       "      <th>3.360101e+10</th>\n",
       "      <td>2</td>\n",
       "      <td>253983.0</td>\n",
       "      <td>5.552080e+08</td>\n",
       "      <td>60009249.0</td>\n",
       "      <td>6.152172e+08</td>\n",
       "    </tr>\n",
       "  </tbody>\n",
       "</table>\n",
       "</div>"
      ],
      "text/plain": [
       "               number_of_xdr_sessions  total_session_duration  \\\n",
       "msisdn/number                                                   \n",
       "3.360100e+10                        1                116720.0   \n",
       "3.360100e+10                        1                181230.0   \n",
       "3.360101e+10                        1                 49878.0   \n",
       "3.360101e+10                        2                 37104.0   \n",
       "3.360101e+10                        2                253983.0   \n",
       "\n",
       "               total_download_data  total_upload_data  total_data_volume  \n",
       "msisdn/number                                                             \n",
       "3.360100e+10          8.426375e+08         36053108.0       8.786906e+08  \n",
       "3.360100e+10          1.207552e+08         36104459.0       1.568596e+08  \n",
       "3.360101e+10          4.019932e+08         20327526.0       4.223207e+08  \n",
       "3.360101e+10          1.363130e+09         94280527.0       1.457411e+09  \n",
       "3.360101e+10          5.552080e+08         60009249.0       6.152172e+08  "
      ]
     },
     "execution_count": 19,
     "metadata": {},
     "output_type": "execute_result"
    }
   ],
   "source": [
    "unique_user_id = 'msisdn/number'\n",
    "\n",
    "# Aggregate the required information by user\n",
    "aggregated_data = df.groupby(unique_user_id).agg({\n",
    "    'bearer_id': 'count',  # Number of xDR sessions\n",
    "    'dur._(ms)': 'sum',  # Session duration\n",
    "    'total_dl_(bytes)': 'sum',  # Total download data\n",
    "    'total_ul_(bytes)': 'sum',  # Total upload data\n",
    "})\n",
    "\n",
    "# Rename the columns for clarity\n",
    "aggregated_data.columns = [\n",
    "    'number_of_xdr_sessions',  # Number of xDR sessions\n",
    "    'total_session_duration',  # Total session duration\n",
    "    'total_download_data',  # Total download data\n",
    "    'total_upload_data',  # Total upload data\n",
    "]\n",
    "\n",
    "# Calculate the total data volume for each user\n",
    "aggregated_data['total_data_volume'] = (\n",
    "    aggregated_data['total_download_data'] + aggregated_data['total_upload_data']\n",
    ")\n",
    "\n",
    "aggregated_data.head()  "
   ]
  },
  {
   "cell_type": "markdown",
   "id": "ce538c50",
   "metadata": {},
   "source": [
    "## Overview of the aggregated information for each user:\n",
    "\n",
    "- Number of xDR sessions: Represents the total number of sessions for each user.\n",
    "- Session duration: Total duration of sessions (in milliseconds) for each user.\n",
    "- Total download (DL) and upload (UL) data: Total data downloaded and uploaded by each user.\n",
    "- Total data volume: Sum of total download and total upload data for each user."
   ]
  },
  {
   "cell_type": "code",
   "execution_count": 20,
   "id": "fd077cd8",
   "metadata": {},
   "outputs": [
    {
     "data": {
      "text/plain": [
       "Index(['bearer_id', 'start', 'start_ms', 'end', 'end_ms', 'dur._(ms)', 'imsi',\n",
       "       'msisdn/number', 'imei', 'last_location_name', 'avg_rtt_dl_(ms)',\n",
       "       'avg_rtt_ul_(ms)', 'avg_bearer_tp_dl_(kbps)', 'avg_bearer_tp_ul_(kbps)',\n",
       "       'dl_tp_<_50_kbps_(%)', '50_kbps_<_dl_tp_<_250_kbps_(%)',\n",
       "       '250_kbps_<_dl_tp_<_1_mbps_(%)', 'dl_tp_>_1_mbps_(%)',\n",
       "       'ul_tp_<_10_kbps_(%)', '10_kbps_<_ul_tp_<_50_kbps_(%)',\n",
       "       '50_kbps_<_ul_tp_<_300_kbps_(%)', 'ul_tp_>_300_kbps_(%)',\n",
       "       'activity_duration_dl_(ms)', 'activity_duration_ul_(ms)', 'dur._(ms).1',\n",
       "       'handset_manufacturer', 'handset_type', 'nb_of_sec_with_vol_dl_<_6250b',\n",
       "       'nb_of_sec_with_vol_ul_<_1250b', 'social_media_dl_(bytes)',\n",
       "       'social_media_ul_(bytes)', 'google_dl_(bytes)', 'google_ul_(bytes)',\n",
       "       'email_dl_(bytes)', 'email_ul_(bytes)', 'youtube_dl_(bytes)',\n",
       "       'youtube_ul_(bytes)', 'netflix_dl_(bytes)', 'netflix_ul_(bytes)',\n",
       "       'gaming_dl_(bytes)', 'gaming_ul_(bytes)', 'other_dl_(bytes)',\n",
       "       'other_ul_(bytes)', 'total_ul_(bytes)', 'total_dl_(bytes)'],\n",
       "      dtype='object')"
      ]
     },
     "execution_count": 20,
     "metadata": {},
     "output_type": "execute_result"
    }
   ],
   "source": [
    "df.columns"
   ]
  },
  {
   "cell_type": "code",
   "execution_count": 21,
   "id": "15e1146f",
   "metadata": {},
   "outputs": [
    {
     "data": {
      "text/plain": [
       "count    100187.000000\n",
       "mean          1.407508\n",
       "std           3.290613\n",
       "min           1.000000\n",
       "25%           1.000000\n",
       "50%           1.000000\n",
       "75%           2.000000\n",
       "max        1011.000000\n",
       "Name: number_of_xdr_sessions, dtype: float64"
      ]
     },
     "execution_count": 21,
     "metadata": {},
     "output_type": "execute_result"
    }
   ],
   "source": [
    "aggregated_data['number_of_xdr_sessions'].describe()"
   ]
  },
  {
   "cell_type": "markdown",
   "id": "16230386",
   "metadata": {},
   "source": [
    "calculate the average session duration for each user. "
   ]
  },
  {
   "cell_type": "code",
   "execution_count": 22,
   "id": "1353d3d5",
   "metadata": {},
   "outputs": [
    {
     "data": {
      "text/html": [
       "<div>\n",
       "<style scoped>\n",
       "    .dataframe tbody tr th:only-of-type {\n",
       "        vertical-align: middle;\n",
       "    }\n",
       "\n",
       "    .dataframe tbody tr th {\n",
       "        vertical-align: top;\n",
       "    }\n",
       "\n",
       "    .dataframe thead th {\n",
       "        text-align: right;\n",
       "    }\n",
       "</style>\n",
       "<table border=\"1\" class=\"dataframe\">\n",
       "  <thead>\n",
       "    <tr style=\"text-align: right;\">\n",
       "      <th></th>\n",
       "      <th>number_of_xdr_sessions</th>\n",
       "      <th>total_session_duration</th>\n",
       "      <th>total_download_data</th>\n",
       "      <th>total_upload_data</th>\n",
       "      <th>total_data_volume</th>\n",
       "      <th>average_session_duration</th>\n",
       "    </tr>\n",
       "    <tr>\n",
       "      <th>msisdn/number</th>\n",
       "      <th></th>\n",
       "      <th></th>\n",
       "      <th></th>\n",
       "      <th></th>\n",
       "      <th></th>\n",
       "      <th></th>\n",
       "    </tr>\n",
       "  </thead>\n",
       "  <tbody>\n",
       "    <tr>\n",
       "      <th>3.360100e+10</th>\n",
       "      <td>1</td>\n",
       "      <td>116720.0</td>\n",
       "      <td>8.426375e+08</td>\n",
       "      <td>36053108.0</td>\n",
       "      <td>8.786906e+08</td>\n",
       "      <td>116720.0</td>\n",
       "    </tr>\n",
       "    <tr>\n",
       "      <th>3.360100e+10</th>\n",
       "      <td>1</td>\n",
       "      <td>181230.0</td>\n",
       "      <td>1.207552e+08</td>\n",
       "      <td>36104459.0</td>\n",
       "      <td>1.568596e+08</td>\n",
       "      <td>181230.0</td>\n",
       "    </tr>\n",
       "    <tr>\n",
       "      <th>3.360101e+10</th>\n",
       "      <td>1</td>\n",
       "      <td>49878.0</td>\n",
       "      <td>4.019932e+08</td>\n",
       "      <td>20327526.0</td>\n",
       "      <td>4.223207e+08</td>\n",
       "      <td>49878.0</td>\n",
       "    </tr>\n",
       "    <tr>\n",
       "      <th>3.360101e+10</th>\n",
       "      <td>2</td>\n",
       "      <td>37104.0</td>\n",
       "      <td>1.363130e+09</td>\n",
       "      <td>94280527.0</td>\n",
       "      <td>1.457411e+09</td>\n",
       "      <td>18552.0</td>\n",
       "    </tr>\n",
       "    <tr>\n",
       "      <th>3.360101e+10</th>\n",
       "      <td>2</td>\n",
       "      <td>253983.0</td>\n",
       "      <td>5.552080e+08</td>\n",
       "      <td>60009249.0</td>\n",
       "      <td>6.152172e+08</td>\n",
       "      <td>126991.5</td>\n",
       "    </tr>\n",
       "  </tbody>\n",
       "</table>\n",
       "</div>"
      ],
      "text/plain": [
       "               number_of_xdr_sessions  total_session_duration  \\\n",
       "msisdn/number                                                   \n",
       "3.360100e+10                        1                116720.0   \n",
       "3.360100e+10                        1                181230.0   \n",
       "3.360101e+10                        1                 49878.0   \n",
       "3.360101e+10                        2                 37104.0   \n",
       "3.360101e+10                        2                253983.0   \n",
       "\n",
       "               total_download_data  total_upload_data  total_data_volume  \\\n",
       "msisdn/number                                                              \n",
       "3.360100e+10          8.426375e+08         36053108.0       8.786906e+08   \n",
       "3.360100e+10          1.207552e+08         36104459.0       1.568596e+08   \n",
       "3.360101e+10          4.019932e+08         20327526.0       4.223207e+08   \n",
       "3.360101e+10          1.363130e+09         94280527.0       1.457411e+09   \n",
       "3.360101e+10          5.552080e+08         60009249.0       6.152172e+08   \n",
       "\n",
       "               average_session_duration  \n",
       "msisdn/number                            \n",
       "3.360100e+10                   116720.0  \n",
       "3.360100e+10                   181230.0  \n",
       "3.360101e+10                    49878.0  \n",
       "3.360101e+10                    18552.0  \n",
       "3.360101e+10                   126991.5  "
      ]
     },
     "execution_count": 22,
     "metadata": {},
     "output_type": "execute_result"
    }
   ],
   "source": [
    "# Calculate the average session duration for each user\n",
    "aggregated_data['average_session_duration'] = aggregated_data['total_session_duration'] / aggregated_data['number_of_xdr_sessions']\n",
    "\n",
    "# Display the updated data with the average session duration\n",
    "aggregated_data.head()  # Show the first few rows with the average session duration\n"
   ]
  },
  {
   "cell_type": "code",
   "execution_count": 23,
   "id": "219b0d53",
   "metadata": {},
   "outputs": [
    {
     "data": {
      "text/html": [
       "<div>\n",
       "<style scoped>\n",
       "    .dataframe tbody tr th:only-of-type {\n",
       "        vertical-align: middle;\n",
       "    }\n",
       "\n",
       "    .dataframe tbody tr th {\n",
       "        vertical-align: top;\n",
       "    }\n",
       "\n",
       "    .dataframe thead th {\n",
       "        text-align: right;\n",
       "    }\n",
       "</style>\n",
       "<table border=\"1\" class=\"dataframe\">\n",
       "  <thead>\n",
       "    <tr style=\"text-align: right;\">\n",
       "      <th></th>\n",
       "      <th>social_media_dl</th>\n",
       "      <th>social_media_ul</th>\n",
       "      <th>google_dl</th>\n",
       "      <th>google_ul</th>\n",
       "      <th>email_dl</th>\n",
       "      <th>email_ul</th>\n",
       "      <th>youtube_dl</th>\n",
       "      <th>youtube_ul</th>\n",
       "      <th>netflix_dl</th>\n",
       "      <th>netflix_ul</th>\n",
       "      <th>...</th>\n",
       "      <th>gaming_ul</th>\n",
       "      <th>other_dl</th>\n",
       "      <th>other_ul</th>\n",
       "      <th>social_media_total</th>\n",
       "      <th>google_total</th>\n",
       "      <th>email_total</th>\n",
       "      <th>youtube_total</th>\n",
       "      <th>netflix_total</th>\n",
       "      <th>gaming_total</th>\n",
       "      <th>other_total</th>\n",
       "    </tr>\n",
       "    <tr>\n",
       "      <th>msisdn/number</th>\n",
       "      <th></th>\n",
       "      <th></th>\n",
       "      <th></th>\n",
       "      <th></th>\n",
       "      <th></th>\n",
       "      <th></th>\n",
       "      <th></th>\n",
       "      <th></th>\n",
       "      <th></th>\n",
       "      <th></th>\n",
       "      <th></th>\n",
       "      <th></th>\n",
       "      <th></th>\n",
       "      <th></th>\n",
       "      <th></th>\n",
       "      <th></th>\n",
       "      <th></th>\n",
       "      <th></th>\n",
       "      <th></th>\n",
       "      <th></th>\n",
       "      <th></th>\n",
       "    </tr>\n",
       "  </thead>\n",
       "  <tbody>\n",
       "    <tr>\n",
       "      <th>3.360100e+10</th>\n",
       "      <td>2206504.0</td>\n",
       "      <td>25631.0</td>\n",
       "      <td>3337123.0</td>\n",
       "      <td>1051882.0</td>\n",
       "      <td>837400.0</td>\n",
       "      <td>493962.0</td>\n",
       "      <td>14900201.0</td>\n",
       "      <td>6724347.0</td>\n",
       "      <td>10265105.0</td>\n",
       "      <td>16915876.0</td>\n",
       "      <td>...</td>\n",
       "      <td>1367528.0</td>\n",
       "      <td>377096990.0</td>\n",
       "      <td>9473882.0</td>\n",
       "      <td>2232135.0</td>\n",
       "      <td>4389005.0</td>\n",
       "      <td>1331362.0</td>\n",
       "      <td>21624548.0</td>\n",
       "      <td>27180981.0</td>\n",
       "      <td>8.124587e+08</td>\n",
       "      <td>386570872.0</td>\n",
       "    </tr>\n",
       "    <tr>\n",
       "      <th>3.360100e+10</th>\n",
       "      <td>2598548.0</td>\n",
       "      <td>62017.0</td>\n",
       "      <td>4197697.0</td>\n",
       "      <td>1137166.0</td>\n",
       "      <td>2828821.0</td>\n",
       "      <td>478960.0</td>\n",
       "      <td>5324251.0</td>\n",
       "      <td>7107972.0</td>\n",
       "      <td>770569.0</td>\n",
       "      <td>10451194.0</td>\n",
       "      <td>...</td>\n",
       "      <td>14714780.0</td>\n",
       "      <td>279557701.0</td>\n",
       "      <td>2152370.0</td>\n",
       "      <td>2660565.0</td>\n",
       "      <td>5334863.0</td>\n",
       "      <td>3307781.0</td>\n",
       "      <td>12432223.0</td>\n",
       "      <td>11221763.0</td>\n",
       "      <td>1.197501e+08</td>\n",
       "      <td>281710071.0</td>\n",
       "    </tr>\n",
       "    <tr>\n",
       "      <th>3.360101e+10</th>\n",
       "      <td>251469.0</td>\n",
       "      <td>28825.0</td>\n",
       "      <td>5937765.0</td>\n",
       "      <td>3740728.0</td>\n",
       "      <td>2178618.0</td>\n",
       "      <td>106052.0</td>\n",
       "      <td>4393123.0</td>\n",
       "      <td>2584198.0</td>\n",
       "      <td>1157362.0</td>\n",
       "      <td>784730.0</td>\n",
       "      <td>...</td>\n",
       "      <td>3051292.0</td>\n",
       "      <td>25248001.0</td>\n",
       "      <td>10031701.0</td>\n",
       "      <td>280294.0</td>\n",
       "      <td>9678493.0</td>\n",
       "      <td>2284670.0</td>\n",
       "      <td>6977321.0</td>\n",
       "      <td>1942092.0</td>\n",
       "      <td>3.911261e+08</td>\n",
       "      <td>35279702.0</td>\n",
       "    </tr>\n",
       "    <tr>\n",
       "      <th>3.360101e+10</th>\n",
       "      <td>2861230.0</td>\n",
       "      <td>51312.0</td>\n",
       "      <td>13728668.0</td>\n",
       "      <td>4770948.0</td>\n",
       "      <td>2247808.0</td>\n",
       "      <td>1057661.0</td>\n",
       "      <td>10339971.0</td>\n",
       "      <td>31193031.0</td>\n",
       "      <td>24971647.0</td>\n",
       "      <td>24230077.0</td>\n",
       "      <td>...</td>\n",
       "      <td>5816727.0</td>\n",
       "      <td>777643713.0</td>\n",
       "      <td>27160771.0</td>\n",
       "      <td>2912542.0</td>\n",
       "      <td>18499616.0</td>\n",
       "      <td>3305469.0</td>\n",
       "      <td>41533002.0</td>\n",
       "      <td>49201724.0</td>\n",
       "      <td>1.314798e+09</td>\n",
       "      <td>804804484.0</td>\n",
       "    </tr>\n",
       "    <tr>\n",
       "      <th>3.360101e+10</th>\n",
       "      <td>3787122.0</td>\n",
       "      <td>5790.0</td>\n",
       "      <td>11993496.0</td>\n",
       "      <td>3269638.0</td>\n",
       "      <td>6513834.0</td>\n",
       "      <td>1334762.0</td>\n",
       "      <td>12169742.0</td>\n",
       "      <td>22177380.0</td>\n",
       "      <td>14569029.0</td>\n",
       "      <td>15746472.0</td>\n",
       "      <td>...</td>\n",
       "      <td>5461038.0</td>\n",
       "      <td>480358608.0</td>\n",
       "      <td>12014169.0</td>\n",
       "      <td>3792912.0</td>\n",
       "      <td>15263134.0</td>\n",
       "      <td>7848596.0</td>\n",
       "      <td>34347122.0</td>\n",
       "      <td>30315501.0</td>\n",
       "      <td>5.116358e+08</td>\n",
       "      <td>492372777.0</td>\n",
       "    </tr>\n",
       "  </tbody>\n",
       "</table>\n",
       "<p>5 rows × 21 columns</p>\n",
       "</div>"
      ],
      "text/plain": [
       "               social_media_dl  social_media_ul   google_dl  google_ul  \\\n",
       "msisdn/number                                                            \n",
       "3.360100e+10         2206504.0          25631.0   3337123.0  1051882.0   \n",
       "3.360100e+10         2598548.0          62017.0   4197697.0  1137166.0   \n",
       "3.360101e+10          251469.0          28825.0   5937765.0  3740728.0   \n",
       "3.360101e+10         2861230.0          51312.0  13728668.0  4770948.0   \n",
       "3.360101e+10         3787122.0           5790.0  11993496.0  3269638.0   \n",
       "\n",
       "                email_dl   email_ul  youtube_dl  youtube_ul  netflix_dl  \\\n",
       "msisdn/number                                                             \n",
       "3.360100e+10    837400.0   493962.0  14900201.0   6724347.0  10265105.0   \n",
       "3.360100e+10   2828821.0   478960.0   5324251.0   7107972.0    770569.0   \n",
       "3.360101e+10   2178618.0   106052.0   4393123.0   2584198.0   1157362.0   \n",
       "3.360101e+10   2247808.0  1057661.0  10339971.0  31193031.0  24971647.0   \n",
       "3.360101e+10   6513834.0  1334762.0  12169742.0  22177380.0  14569029.0   \n",
       "\n",
       "               netflix_ul  ...   gaming_ul     other_dl    other_ul  \\\n",
       "msisdn/number              ...                                        \n",
       "3.360100e+10   16915876.0  ...   1367528.0  377096990.0   9473882.0   \n",
       "3.360100e+10   10451194.0  ...  14714780.0  279557701.0   2152370.0   \n",
       "3.360101e+10     784730.0  ...   3051292.0   25248001.0  10031701.0   \n",
       "3.360101e+10   24230077.0  ...   5816727.0  777643713.0  27160771.0   \n",
       "3.360101e+10   15746472.0  ...   5461038.0  480358608.0  12014169.0   \n",
       "\n",
       "               social_media_total  google_total  email_total  youtube_total  \\\n",
       "msisdn/number                                                                 \n",
       "3.360100e+10            2232135.0     4389005.0    1331362.0     21624548.0   \n",
       "3.360100e+10            2660565.0     5334863.0    3307781.0     12432223.0   \n",
       "3.360101e+10             280294.0     9678493.0    2284670.0      6977321.0   \n",
       "3.360101e+10            2912542.0    18499616.0    3305469.0     41533002.0   \n",
       "3.360101e+10            3792912.0    15263134.0    7848596.0     34347122.0   \n",
       "\n",
       "               netflix_total  gaming_total  other_total  \n",
       "msisdn/number                                            \n",
       "3.360100e+10      27180981.0  8.124587e+08  386570872.0  \n",
       "3.360100e+10      11221763.0  1.197501e+08  281710071.0  \n",
       "3.360101e+10       1942092.0  3.911261e+08   35279702.0  \n",
       "3.360101e+10      49201724.0  1.314798e+09  804804484.0  \n",
       "3.360101e+10      30315501.0  5.116358e+08  492372777.0  \n",
       "\n",
       "[5 rows x 21 columns]"
      ]
     },
     "execution_count": 23,
     "metadata": {},
     "output_type": "execute_result"
    }
   ],
   "source": [
    "# Aggregate total data volume by specific application categories\n",
    "category_columns = [\n",
    "    'social_media_dl_(bytes)', 'social_media_ul_(bytes)',\n",
    "    'google_dl_(bytes)', 'google_ul_(bytes)',\n",
    "    'email_dl_(bytes)', 'email_ul_(bytes)',\n",
    "    'youtube_dl_(bytes)', 'youtube_ul_(bytes)',\n",
    "    'netflix_dl_(bytes)', 'netflix_ul_(bytes)',\n",
    "    'gaming_dl_(bytes)', 'gaming_ul_(bytes)',\n",
    "    'other_dl_(bytes)', 'other_ul_(bytes)'\n",
    "]\n",
    "\n",
    "# Create a new dataframe to store the aggregated data volume for each category\n",
    "category_data = df.groupby(unique_user_id)[category_columns].sum()\n",
    "\n",
    "# Rename columns for clarity\n",
    "category_data.columns = [\n",
    "    'social_media_dl', 'social_media_ul',\n",
    "    'google_dl', 'google_ul',\n",
    "    'email_dl', 'email_ul',\n",
    "    'youtube_dl', 'youtube_ul',\n",
    "    'netflix_dl', 'netflix_ul',\n",
    "    'gaming_dl', 'gaming_ul',\n",
    "    'other_dl', 'other_ul'\n",
    "]\n",
    "\n",
    "# Calculate the total data volume for each category\n",
    "category_data['social_media_total'] = category_data['social_media_dl'] + category_data['social_media_ul']\n",
    "category_data['google_total'] = category_data['google_dl'] + category_data['google_ul']\n",
    "category_data['email_total'] = category_data['email_dl'] + category_data['email_ul']\n",
    "category_data['youtube_total'] = category_data['youtube_dl'] + category_data['youtube_ul']\n",
    "category_data['netflix_total'] = category_data['netflix_dl'] + category_data['netflix_ul']\n",
    "category_data['gaming_total'] = category_data['gaming_dl'] + category_data['gaming_ul']\n",
    "category_data['other_total'] = category_data['other_dl'] + category_data['other_ul']\n",
    "\n",
    "# Display the first few rows of the updated data with total data volume by category\n",
    "category_data.head()  # Show the total data volume for each application category\n"
   ]
  },
  {
   "cell_type": "markdown",
   "id": "3f67c8e4",
   "metadata": {},
   "source": [
    "## Non-Graphical Univariate Analysis to compute dispersion parameters for each quantitative variable and provide useful interpretations"
   ]
  },
  {
   "cell_type": "code",
   "execution_count": 24,
   "id": "8cf0c815",
   "metadata": {},
   "outputs": [],
   "source": [
    "basic_metrics = df.describe().T"
   ]
  },
  {
   "cell_type": "code",
   "execution_count": 25,
   "id": "7157d18b",
   "metadata": {},
   "outputs": [
    {
     "data": {
      "text/html": [
       "<div>\n",
       "<style scoped>\n",
       "    .dataframe tbody tr th:only-of-type {\n",
       "        vertical-align: middle;\n",
       "    }\n",
       "\n",
       "    .dataframe tbody tr th {\n",
       "        vertical-align: top;\n",
       "    }\n",
       "\n",
       "    .dataframe thead th {\n",
       "        text-align: right;\n",
       "    }\n",
       "</style>\n",
       "<table border=\"1\" class=\"dataframe\">\n",
       "  <thead>\n",
       "    <tr style=\"text-align: right;\">\n",
       "      <th></th>\n",
       "      <th>range</th>\n",
       "      <th>variance</th>\n",
       "      <th>interquartile_range</th>\n",
       "    </tr>\n",
       "  </thead>\n",
       "  <tbody>\n",
       "    <tr>\n",
       "      <th>bearer_id</th>\n",
       "      <td>6.269004e+18</td>\n",
       "      <td>8.364967e+36</td>\n",
       "      <td>5.692543e+18</td>\n",
       "    </tr>\n",
       "    <tr>\n",
       "      <th>start_ms</th>\n",
       "      <td>9.990000e+02</td>\n",
       "      <td>8.333286e+04</td>\n",
       "      <td>4.990000e+02</td>\n",
       "    </tr>\n",
       "    <tr>\n",
       "      <th>end_ms</th>\n",
       "      <td>9.990000e+02</td>\n",
       "      <td>8.306442e+04</td>\n",
       "      <td>4.990000e+02</td>\n",
       "    </tr>\n",
       "    <tr>\n",
       "      <th>dur._(ms)</th>\n",
       "      <td>1.852194e+06</td>\n",
       "      <td>6.272113e+09</td>\n",
       "      <td>7.316375e+04</td>\n",
       "    </tr>\n",
       "    <tr>\n",
       "      <th>imsi</th>\n",
       "      <td>1.002719e+13</td>\n",
       "      <td>4.890647e+20</td>\n",
       "      <td>3.702059e+08</td>\n",
       "    </tr>\n",
       "    <tr>\n",
       "      <th>msisdn/number</th>\n",
       "      <td>8.823635e+14</td>\n",
       "      <td>6.326445e+24</td>\n",
       "      <td>3.123169e+07</td>\n",
       "    </tr>\n",
       "    <tr>\n",
       "      <th>imei</th>\n",
       "      <td>9.856119e+13</td>\n",
       "      <td>4.996690e+26</td>\n",
       "      <td>5.063249e+13</td>\n",
       "    </tr>\n",
       "    <tr>\n",
       "      <th>avg_rtt_dl_(ms)</th>\n",
       "      <td>9.692300e+04</td>\n",
       "      <td>3.296084e+05</td>\n",
       "      <td>2.800000e+01</td>\n",
       "    </tr>\n",
       "    <tr>\n",
       "      <th>avg_rtt_ul_(ms)</th>\n",
       "      <td>7.120000e+03</td>\n",
       "      <td>5.891006e+03</td>\n",
       "      <td>8.000000e+00</td>\n",
       "    </tr>\n",
       "    <tr>\n",
       "      <th>avg_bearer_tp_dl_(kbps)</th>\n",
       "      <td>3.781600e+05</td>\n",
       "      <td>5.793379e+08</td>\n",
       "      <td>2.049275e+04</td>\n",
       "    </tr>\n",
       "    <tr>\n",
       "      <th>avg_bearer_tp_ul_(kbps)</th>\n",
       "      <td>5.861300e+04</td>\n",
       "      <td>2.212941e+07</td>\n",
       "      <td>1.128000e+03</td>\n",
       "    </tr>\n",
       "    <tr>\n",
       "      <th>dl_tp_&lt;_50_kbps_(%)</th>\n",
       "      <td>1.000000e+02</td>\n",
       "      <td>1.734339e+02</td>\n",
       "      <td>1.000000e+01</td>\n",
       "    </tr>\n",
       "    <tr>\n",
       "      <th>50_kbps_&lt;_dl_tp_&lt;_250_kbps_(%)</th>\n",
       "      <td>9.300000e+01</td>\n",
       "      <td>3.891895e+01</td>\n",
       "      <td>4.000000e+00</td>\n",
       "    </tr>\n",
       "    <tr>\n",
       "      <th>250_kbps_&lt;_dl_tp_&lt;_1_mbps_(%)</th>\n",
       "      <td>1.000000e+02</td>\n",
       "      <td>1.784446e+01</td>\n",
       "      <td>1.000000e+00</td>\n",
       "    </tr>\n",
       "    <tr>\n",
       "      <th>dl_tp_&gt;_1_mbps_(%)</th>\n",
       "      <td>9.400000e+01</td>\n",
       "      <td>2.420124e+01</td>\n",
       "      <td>1.000000e+00</td>\n",
       "    </tr>\n",
       "    <tr>\n",
       "      <th>ul_tp_&lt;_10_kbps_(%)</th>\n",
       "      <td>1.000000e+02</td>\n",
       "      <td>2.190302e+01</td>\n",
       "      <td>1.000000e+00</td>\n",
       "    </tr>\n",
       "    <tr>\n",
       "      <th>10_kbps_&lt;_ul_tp_&lt;_50_kbps_(%)</th>\n",
       "      <td>9.800000e+01</td>\n",
       "      <td>1.048893e+01</td>\n",
       "      <td>0.000000e+00</td>\n",
       "    </tr>\n",
       "    <tr>\n",
       "      <th>50_kbps_&lt;_ul_tp_&lt;_300_kbps_(%)</th>\n",
       "      <td>8.500000e+01</td>\n",
       "      <td>2.682464e+00</td>\n",
       "      <td>0.000000e+00</td>\n",
       "    </tr>\n",
       "    <tr>\n",
       "      <th>ul_tp_&gt;_300_kbps_(%)</th>\n",
       "      <td>9.600000e+01</td>\n",
       "      <td>1.770715e+00</td>\n",
       "      <td>0.000000e+00</td>\n",
       "    </tr>\n",
       "    <tr>\n",
       "      <th>activity_duration_dl_(ms)</th>\n",
       "      <td>1.365365e+08</td>\n",
       "      <td>3.420319e+13</td>\n",
       "      <td>7.296770e+05</td>\n",
       "    </tr>\n",
       "    <tr>\n",
       "      <th>activity_duration_ul_(ms)</th>\n",
       "      <td>1.449113e+08</td>\n",
       "      <td>2.272459e+13</td>\n",
       "      <td>6.344540e+05</td>\n",
       "    </tr>\n",
       "    <tr>\n",
       "      <th>dur._(ms).1</th>\n",
       "      <td>1.852193e+09</td>\n",
       "      <td>6.272111e+15</td>\n",
       "      <td>7.316401e+07</td>\n",
       "    </tr>\n",
       "    <tr>\n",
       "      <th>nb_of_sec_with_vol_dl_&lt;_6250b</th>\n",
       "      <td>6.040600e+05</td>\n",
       "      <td>8.808113e+07</td>\n",
       "      <td>2.778000e+03</td>\n",
       "    </tr>\n",
       "    <tr>\n",
       "      <th>nb_of_sec_with_vol_ul_&lt;_1250b</th>\n",
       "      <td>6.041210e+05</td>\n",
       "      <td>1.080116e+08</td>\n",
       "      <td>2.508000e+03</td>\n",
       "    </tr>\n",
       "    <tr>\n",
       "      <th>social_media_dl_(bytes)</th>\n",
       "      <td>3.586052e+06</td>\n",
       "      <td>1.072166e+12</td>\n",
       "      <td>1.795284e+06</td>\n",
       "    </tr>\n",
       "    <tr>\n",
       "      <th>social_media_ul_(bytes)</th>\n",
       "      <td>6.587000e+04</td>\n",
       "      <td>3.611816e+08</td>\n",
       "      <td>3.288350e+04</td>\n",
       "    </tr>\n",
       "    <tr>\n",
       "      <th>google_dl_(bytes)</th>\n",
       "      <td>1.146262e+07</td>\n",
       "      <td>1.095944e+13</td>\n",
       "      <td>5.748383e+06</td>\n",
       "    </tr>\n",
       "    <tr>\n",
       "      <th>google_ul_(bytes)</th>\n",
       "      <td>4.121354e+06</td>\n",
       "      <td>1.415191e+12</td>\n",
       "      <td>2.064170e+06</td>\n",
       "    </tr>\n",
       "    <tr>\n",
       "      <th>email_dl_(bytes)</th>\n",
       "      <td>3.586132e+06</td>\n",
       "      <td>1.072078e+12</td>\n",
       "      <td>1.794940e+06</td>\n",
       "    </tr>\n",
       "    <tr>\n",
       "      <th>email_ul_(bytes)</th>\n",
       "      <td>9.364160e+05</td>\n",
       "      <td>7.285309e+10</td>\n",
       "      <td>4.670848e+05</td>\n",
       "    </tr>\n",
       "    <tr>\n",
       "      <th>youtube_dl_(bytes)</th>\n",
       "      <td>2.325904e+07</td>\n",
       "      <td>4.510037e+13</td>\n",
       "      <td>1.163863e+07</td>\n",
       "    </tr>\n",
       "    <tr>\n",
       "      <th>youtube_ul_(bytes)</th>\n",
       "      <td>2.201186e+07</td>\n",
       "      <td>4.029159e+13</td>\n",
       "      <td>1.099992e+07</td>\n",
       "    </tr>\n",
       "    <tr>\n",
       "      <th>netflix_dl_(bytes)</th>\n",
       "      <td>2.325915e+07</td>\n",
       "      <td>4.521252e+13</td>\n",
       "      <td>1.168606e+07</td>\n",
       "    </tr>\n",
       "    <tr>\n",
       "      <th>netflix_ul_(bytes)</th>\n",
       "      <td>2.201192e+07</td>\n",
       "      <td>4.046580e+13</td>\n",
       "      <td>1.104561e+07</td>\n",
       "    </tr>\n",
       "    <tr>\n",
       "      <th>gaming_dl_(bytes)</th>\n",
       "      <td>8.434394e+08</td>\n",
       "      <td>5.953623e+16</td>\n",
       "      <td>4.228212e+08</td>\n",
       "    </tr>\n",
       "    <tr>\n",
       "      <th>gaming_ul_(bytes)</th>\n",
       "      <td>1.655874e+07</td>\n",
       "      <td>2.286705e+13</td>\n",
       "      <td>8.298589e+06</td>\n",
       "    </tr>\n",
       "    <tr>\n",
       "      <th>other_dl_(bytes)</th>\n",
       "      <td>8.434282e+08</td>\n",
       "      <td>5.917187e+16</td>\n",
       "      <td>4.215418e+08</td>\n",
       "    </tr>\n",
       "    <tr>\n",
       "      <th>other_ul_(bytes)</th>\n",
       "      <td>1.655867e+07</td>\n",
       "      <td>2.273297e+13</td>\n",
       "      <td>8.228663e+06</td>\n",
       "    </tr>\n",
       "    <tr>\n",
       "      <th>total_ul_(bytes)</th>\n",
       "      <td>7.546442e+07</td>\n",
       "      <td>1.273530e+14</td>\n",
       "      <td>1.581327e+07</td>\n",
       "    </tr>\n",
       "    <tr>\n",
       "      <th>total_dl_(bytes)</th>\n",
       "      <td>8.958556e+08</td>\n",
       "      <td>5.962408e+16</td>\n",
       "      <td>4.228075e+08</td>\n",
       "    </tr>\n",
       "  </tbody>\n",
       "</table>\n",
       "</div>"
      ],
      "text/plain": [
       "                                       range      variance  \\\n",
       "bearer_id                       6.269004e+18  8.364967e+36   \n",
       "start_ms                        9.990000e+02  8.333286e+04   \n",
       "end_ms                          9.990000e+02  8.306442e+04   \n",
       "dur._(ms)                       1.852194e+06  6.272113e+09   \n",
       "imsi                            1.002719e+13  4.890647e+20   \n",
       "msisdn/number                   8.823635e+14  6.326445e+24   \n",
       "imei                            9.856119e+13  4.996690e+26   \n",
       "avg_rtt_dl_(ms)                 9.692300e+04  3.296084e+05   \n",
       "avg_rtt_ul_(ms)                 7.120000e+03  5.891006e+03   \n",
       "avg_bearer_tp_dl_(kbps)         3.781600e+05  5.793379e+08   \n",
       "avg_bearer_tp_ul_(kbps)         5.861300e+04  2.212941e+07   \n",
       "dl_tp_<_50_kbps_(%)             1.000000e+02  1.734339e+02   \n",
       "50_kbps_<_dl_tp_<_250_kbps_(%)  9.300000e+01  3.891895e+01   \n",
       "250_kbps_<_dl_tp_<_1_mbps_(%)   1.000000e+02  1.784446e+01   \n",
       "dl_tp_>_1_mbps_(%)              9.400000e+01  2.420124e+01   \n",
       "ul_tp_<_10_kbps_(%)             1.000000e+02  2.190302e+01   \n",
       "10_kbps_<_ul_tp_<_50_kbps_(%)   9.800000e+01  1.048893e+01   \n",
       "50_kbps_<_ul_tp_<_300_kbps_(%)  8.500000e+01  2.682464e+00   \n",
       "ul_tp_>_300_kbps_(%)            9.600000e+01  1.770715e+00   \n",
       "activity_duration_dl_(ms)       1.365365e+08  3.420319e+13   \n",
       "activity_duration_ul_(ms)       1.449113e+08  2.272459e+13   \n",
       "dur._(ms).1                     1.852193e+09  6.272111e+15   \n",
       "nb_of_sec_with_vol_dl_<_6250b   6.040600e+05  8.808113e+07   \n",
       "nb_of_sec_with_vol_ul_<_1250b   6.041210e+05  1.080116e+08   \n",
       "social_media_dl_(bytes)         3.586052e+06  1.072166e+12   \n",
       "social_media_ul_(bytes)         6.587000e+04  3.611816e+08   \n",
       "google_dl_(bytes)               1.146262e+07  1.095944e+13   \n",
       "google_ul_(bytes)               4.121354e+06  1.415191e+12   \n",
       "email_dl_(bytes)                3.586132e+06  1.072078e+12   \n",
       "email_ul_(bytes)                9.364160e+05  7.285309e+10   \n",
       "youtube_dl_(bytes)              2.325904e+07  4.510037e+13   \n",
       "youtube_ul_(bytes)              2.201186e+07  4.029159e+13   \n",
       "netflix_dl_(bytes)              2.325915e+07  4.521252e+13   \n",
       "netflix_ul_(bytes)              2.201192e+07  4.046580e+13   \n",
       "gaming_dl_(bytes)               8.434394e+08  5.953623e+16   \n",
       "gaming_ul_(bytes)               1.655874e+07  2.286705e+13   \n",
       "other_dl_(bytes)                8.434282e+08  5.917187e+16   \n",
       "other_ul_(bytes)                1.655867e+07  2.273297e+13   \n",
       "total_ul_(bytes)                7.546442e+07  1.273530e+14   \n",
       "total_dl_(bytes)                8.958556e+08  5.962408e+16   \n",
       "\n",
       "                                interquartile_range  \n",
       "bearer_id                              5.692543e+18  \n",
       "start_ms                               4.990000e+02  \n",
       "end_ms                                 4.990000e+02  \n",
       "dur._(ms)                              7.316375e+04  \n",
       "imsi                                   3.702059e+08  \n",
       "msisdn/number                          3.123169e+07  \n",
       "imei                                   5.063249e+13  \n",
       "avg_rtt_dl_(ms)                        2.800000e+01  \n",
       "avg_rtt_ul_(ms)                        8.000000e+00  \n",
       "avg_bearer_tp_dl_(kbps)                2.049275e+04  \n",
       "avg_bearer_tp_ul_(kbps)                1.128000e+03  \n",
       "dl_tp_<_50_kbps_(%)                    1.000000e+01  \n",
       "50_kbps_<_dl_tp_<_250_kbps_(%)         4.000000e+00  \n",
       "250_kbps_<_dl_tp_<_1_mbps_(%)          1.000000e+00  \n",
       "dl_tp_>_1_mbps_(%)                     1.000000e+00  \n",
       "ul_tp_<_10_kbps_(%)                    1.000000e+00  \n",
       "10_kbps_<_ul_tp_<_50_kbps_(%)          0.000000e+00  \n",
       "50_kbps_<_ul_tp_<_300_kbps_(%)         0.000000e+00  \n",
       "ul_tp_>_300_kbps_(%)                   0.000000e+00  \n",
       "activity_duration_dl_(ms)              7.296770e+05  \n",
       "activity_duration_ul_(ms)              6.344540e+05  \n",
       "dur._(ms).1                            7.316401e+07  \n",
       "nb_of_sec_with_vol_dl_<_6250b          2.778000e+03  \n",
       "nb_of_sec_with_vol_ul_<_1250b          2.508000e+03  \n",
       "social_media_dl_(bytes)                1.795284e+06  \n",
       "social_media_ul_(bytes)                3.288350e+04  \n",
       "google_dl_(bytes)                      5.748383e+06  \n",
       "google_ul_(bytes)                      2.064170e+06  \n",
       "email_dl_(bytes)                       1.794940e+06  \n",
       "email_ul_(bytes)                       4.670848e+05  \n",
       "youtube_dl_(bytes)                     1.163863e+07  \n",
       "youtube_ul_(bytes)                     1.099992e+07  \n",
       "netflix_dl_(bytes)                     1.168606e+07  \n",
       "netflix_ul_(bytes)                     1.104561e+07  \n",
       "gaming_dl_(bytes)                      4.228212e+08  \n",
       "gaming_ul_(bytes)                      8.298589e+06  \n",
       "other_dl_(bytes)                       4.215418e+08  \n",
       "other_ul_(bytes)                       8.228663e+06  \n",
       "total_ul_(bytes)                       1.581327e+07  \n",
       "total_dl_(bytes)                       4.228075e+08  "
      ]
     },
     "execution_count": 25,
     "metadata": {},
     "output_type": "execute_result"
    }
   ],
   "source": [
    "# Calculate dispersion parameters for each quantitative variable\n",
    "dispersion_parameters = pd.DataFrame({\n",
    "    'range': basic_metrics['max'] - basic_metrics['min'],\n",
    "    'variance': basic_metrics['std'] ** 2,\n",
    "    'interquartile_range': basic_metrics['75%'] - basic_metrics['25%']\n",
    "})\n",
    "\n",
    "# Display the dispersion parameters\n",
    "dispersion_parameters  # Show range, variance, and interquartile range for each quantitative variable\n"
   ]
  },
  {
   "cell_type": "markdown",
   "id": "09394e7e",
   "metadata": {},
   "source": [
    "## Non-Graphical Univariate Analysis\n",
    "Analysis of the dispersion parameters for each quantitative variable:\n",
    "\n",
    "- Range: Difference between maximum and minimum values.\n",
    "- Variance: Measures the spread or dispersion of the data.\n",
    "- Interquartile Range (IQR): Indicates the spread between the 25th and 75th percentiles.\n",
    "\n",
    "These parameters help understand data variability, indicating the range of possible values and highlighting potential outliers."
   ]
  },
  {
   "cell_type": "code",
   "execution_count": 26,
   "id": "3230231c",
   "metadata": {},
   "outputs": [
    {
     "data": {
      "image/png": "[encoded data removed]",
      "text/plain": [
       "<Figure size 1200x1200 with 6 Axes>"
      ]
     },
     "execution_count": 26,
     "metadata": {},
     "output_type": "execute_result"
    },
    {
     "data": {
      "image/png": "[encoded data removed]",
      "text/plain": [
       "<Figure size 1200x1200 with 6 Axes>"
      ]
     },
     "metadata": {},
     "output_type": "display_data"
    }
   ],
   "source": [
    "import seaborn as sns\n",
    "import matplotlib.pyplot as plt\n",
    "\n",
    "# Create histograms for the key numerical variables\n",
    "fig, axs = plt.subplots(3, 2, figsize=(12, 12))\n",
    "\n",
    "# Plot histograms for selected variables\n",
    "sns.histplot(df['dur._(ms)'], kde=True, ax=axs[0, 0]).set(title='Session Duration (ms)')\n",
    "sns.histplot(df['total_dl_(bytes)'], kde=True, ax=axs[0, 1]).set(title='Total Download Data (bytes)')\n",
    "sns.histplot(df['total_ul_(bytes)'], kde=True, ax=axs[1, 0]).set(title='Total Upload Data (bytes)')\n",
    "sns.histplot(df['avg_bearer_tp_dl_(kbps)'], kde=True, ax=axs[1, 1]).set(title='Avg Bearer TP Download (kbps)')\n",
    "sns.histplot(df['avg_bearer_tp_ul_(kbps)'], kde=True, ax=axs[2, 0]).set(title='Avg Bearer TP Upload (kbps)')\n",
    "# sns.histplot(df[unique_user_id], kde=True, ax=axs[2, 1]).set(title='IMSI')\n",
    "\n",
    "# Adjust layout\n",
    "plt.tight_layout()\n",
    "\n",
    "# Return the histogram plot\n",
    "fig  # Output the histogram plot for graphical univariate analysis\n"
   ]
  },
  {
   "cell_type": "code",
   "execution_count": 27,
   "id": "c4bf33d5",
   "metadata": {},
   "outputs": [
    {
     "data": {
      "image/png": "[encoded data removed]",
      "text/plain": [
       "<Figure size 1200x1200 with 6 Axes>"
      ]
     },
     "execution_count": 27,
     "metadata": {},
     "output_type": "execute_result"
    },
    {
     "name": "stdout",
     "output_type": "stream",
     "text": [
      "Error in callback <function _draw_all_if_interactive at 0x0000020B86A58AE0> (for post_execute), with arguments args (),kwargs {}:\n"
     ]
    },
    {
     "ename": "KeyboardInterrupt",
     "evalue": "",
     "output_type": "error",
     "traceback": [
      "\u001b[1;31m---------------------------------------------------------------------------\u001b[0m",
      "\u001b[1;31mKeyboardInterrupt\u001b[0m                         Traceback (most recent call last)",
      "File \u001b[1;32mc:\\Users\\user\\Downloads\\ten_academy\\week1\\Week1-10Academy-User-Analysis\\env\\Lib\\site-packages\\matplotlib\\pyplot.py:197\u001b[0m, in \u001b[0;36m_draw_all_if_interactive\u001b[1;34m()\u001b[0m\n\u001b[0;32m    195\u001b[0m \u001b[38;5;28;01mdef\u001b[39;00m \u001b[38;5;21m_draw_all_if_interactive\u001b[39m() \u001b[38;5;241m-\u001b[39m\u001b[38;5;241m>\u001b[39m \u001b[38;5;28;01mNone\u001b[39;00m:\n\u001b[0;32m    196\u001b[0m     \u001b[38;5;28;01mif\u001b[39;00m matplotlib\u001b[38;5;241m.\u001b[39mis_interactive():\n\u001b[1;32m--> 197\u001b[0m         \u001b[43mdraw_all\u001b[49m\u001b[43m(\u001b[49m\u001b[43m)\u001b[49m\n",
      "File \u001b[1;32mc:\\Users\\user\\Downloads\\ten_academy\\week1\\Week1-10Academy-User-Analysis\\env\\Lib\\site-packages\\matplotlib\\_pylab_helpers.py:132\u001b[0m, in \u001b[0;36mGcf.draw_all\u001b[1;34m(cls, force)\u001b[0m\n\u001b[0;32m    130\u001b[0m \u001b[38;5;28;01mfor\u001b[39;00m manager \u001b[38;5;129;01min\u001b[39;00m \u001b[38;5;28mcls\u001b[39m\u001b[38;5;241m.\u001b[39mget_all_fig_managers():\n\u001b[0;32m    131\u001b[0m     \u001b[38;5;28;01mif\u001b[39;00m force \u001b[38;5;129;01mor\u001b[39;00m manager\u001b[38;5;241m.\u001b[39mcanvas\u001b[38;5;241m.\u001b[39mfigure\u001b[38;5;241m.\u001b[39mstale:\n\u001b[1;32m--> 132\u001b[0m         \u001b[43mmanager\u001b[49m\u001b[38;5;241;43m.\u001b[39;49m\u001b[43mcanvas\u001b[49m\u001b[38;5;241;43m.\u001b[39;49m\u001b[43mdraw_idle\u001b[49m\u001b[43m(\u001b[49m\u001b[43m)\u001b[49m\n",
      "File \u001b[1;32mc:\\Users\\user\\Downloads\\ten_academy\\week1\\Week1-10Academy-User-Analysis\\env\\Lib\\site-packages\\matplotlib\\backend_bases.py:1893\u001b[0m, in \u001b[0;36mFigureCanvasBase.draw_idle\u001b[1;34m(self, *args, **kwargs)\u001b[0m\n\u001b[0;32m   1891\u001b[0m \u001b[38;5;28;01mif\u001b[39;00m \u001b[38;5;129;01mnot\u001b[39;00m \u001b[38;5;28mself\u001b[39m\u001b[38;5;241m.\u001b[39m_is_idle_drawing:\n\u001b[0;32m   1892\u001b[0m     \u001b[38;5;28;01mwith\u001b[39;00m \u001b[38;5;28mself\u001b[39m\u001b[38;5;241m.\u001b[39m_idle_draw_cntx():\n\u001b[1;32m-> 1893\u001b[0m         \u001b[38;5;28;43mself\u001b[39;49m\u001b[38;5;241;43m.\u001b[39;49m\u001b[43mdraw\u001b[49m\u001b[43m(\u001b[49m\u001b[38;5;241;43m*\u001b[39;49m\u001b[43margs\u001b[49m\u001b[43m,\u001b[49m\u001b[43m \u001b[49m\u001b[38;5;241;43m*\u001b[39;49m\u001b[38;5;241;43m*\u001b[39;49m\u001b[43mkwargs\u001b[49m\u001b[43m)\u001b[49m\n",
      "File \u001b[1;32mc:\\Users\\user\\Downloads\\ten_academy\\week1\\Week1-10Academy-User-Analysis\\env\\Lib\\site-packages\\matplotlib\\backends\\backend_agg.py:388\u001b[0m, in \u001b[0;36mFigureCanvasAgg.draw\u001b[1;34m(self)\u001b[0m\n\u001b[0;32m    385\u001b[0m \u001b[38;5;66;03m# Acquire a lock on the shared font cache.\u001b[39;00m\n\u001b[0;32m    386\u001b[0m \u001b[38;5;28;01mwith\u001b[39;00m (\u001b[38;5;28mself\u001b[39m\u001b[38;5;241m.\u001b[39mtoolbar\u001b[38;5;241m.\u001b[39m_wait_cursor_for_draw_cm() \u001b[38;5;28;01mif\u001b[39;00m \u001b[38;5;28mself\u001b[39m\u001b[38;5;241m.\u001b[39mtoolbar\n\u001b[0;32m    387\u001b[0m       \u001b[38;5;28;01melse\u001b[39;00m nullcontext()):\n\u001b[1;32m--> 388\u001b[0m     \u001b[38;5;28;43mself\u001b[39;49m\u001b[38;5;241;43m.\u001b[39;49m\u001b[43mfigure\u001b[49m\u001b[38;5;241;43m.\u001b[39;49m\u001b[43mdraw\u001b[49m\u001b[43m(\u001b[49m\u001b[38;5;28;43mself\u001b[39;49m\u001b[38;5;241;43m.\u001b[39;49m\u001b[43mrenderer\u001b[49m\u001b[43m)\u001b[49m\n\u001b[0;32m    389\u001b[0m     \u001b[38;5;66;03m# A GUI class may be need to update a window using this draw, so\u001b[39;00m\n\u001b[0;32m    390\u001b[0m     \u001b[38;5;66;03m# don't forget to call the superclass.\u001b[39;00m\n\u001b[0;32m    391\u001b[0m     \u001b[38;5;28msuper\u001b[39m()\u001b[38;5;241m.\u001b[39mdraw()\n",
      "File \u001b[1;32mc:\\Users\\user\\Downloads\\ten_academy\\week1\\Week1-10Academy-User-Analysis\\env\\Lib\\site-packages\\matplotlib\\artist.py:95\u001b[0m, in \u001b[0;36m_finalize_rasterization.<locals>.draw_wrapper\u001b[1;34m(artist, renderer, *args, **kwargs)\u001b[0m\n\u001b[0;32m     93\u001b[0m \u001b[38;5;129m@wraps\u001b[39m(draw)\n\u001b[0;32m     94\u001b[0m \u001b[38;5;28;01mdef\u001b[39;00m \u001b[38;5;21mdraw_wrapper\u001b[39m(artist, renderer, \u001b[38;5;241m*\u001b[39margs, \u001b[38;5;241m*\u001b[39m\u001b[38;5;241m*\u001b[39mkwargs):\n\u001b[1;32m---> 95\u001b[0m     result \u001b[38;5;241m=\u001b[39m \u001b[43mdraw\u001b[49m\u001b[43m(\u001b[49m\u001b[43martist\u001b[49m\u001b[43m,\u001b[49m\u001b[43m \u001b[49m\u001b[43mrenderer\u001b[49m\u001b[43m,\u001b[49m\u001b[43m \u001b[49m\u001b[38;5;241;43m*\u001b[39;49m\u001b[43margs\u001b[49m\u001b[43m,\u001b[49m\u001b[43m \u001b[49m\u001b[38;5;241;43m*\u001b[39;49m\u001b[38;5;241;43m*\u001b[39;49m\u001b[43mkwargs\u001b[49m\u001b[43m)\u001b[49m\n\u001b[0;32m     96\u001b[0m     \u001b[38;5;28;01mif\u001b[39;00m renderer\u001b[38;5;241m.\u001b[39m_rasterizing:\n\u001b[0;32m     97\u001b[0m         renderer\u001b[38;5;241m.\u001b[39mstop_rasterizing()\n",
      "File \u001b[1;32mc:\\Users\\user\\Downloads\\ten_academy\\week1\\Week1-10Academy-User-Analysis\\env\\Lib\\site-packages\\matplotlib\\artist.py:72\u001b[0m, in \u001b[0;36mallow_rasterization.<locals>.draw_wrapper\u001b[1;34m(artist, renderer)\u001b[0m\n\u001b[0;32m     69\u001b[0m     \u001b[38;5;28;01mif\u001b[39;00m artist\u001b[38;5;241m.\u001b[39mget_agg_filter() \u001b[38;5;129;01mis\u001b[39;00m \u001b[38;5;129;01mnot\u001b[39;00m \u001b[38;5;28;01mNone\u001b[39;00m:\n\u001b[0;32m     70\u001b[0m         renderer\u001b[38;5;241m.\u001b[39mstart_filter()\n\u001b[1;32m---> 72\u001b[0m     \u001b[38;5;28;01mreturn\u001b[39;00m \u001b[43mdraw\u001b[49m\u001b[43m(\u001b[49m\u001b[43martist\u001b[49m\u001b[43m,\u001b[49m\u001b[43m \u001b[49m\u001b[43mrenderer\u001b[49m\u001b[43m)\u001b[49m\n\u001b[0;32m     73\u001b[0m \u001b[38;5;28;01mfinally\u001b[39;00m:\n\u001b[0;32m     74\u001b[0m     \u001b[38;5;28;01mif\u001b[39;00m artist\u001b[38;5;241m.\u001b[39mget_agg_filter() \u001b[38;5;129;01mis\u001b[39;00m \u001b[38;5;129;01mnot\u001b[39;00m \u001b[38;5;28;01mNone\u001b[39;00m:\n",
      "File \u001b[1;32mc:\\Users\\user\\Downloads\\ten_academy\\week1\\Week1-10Academy-User-Analysis\\env\\Lib\\site-packages\\matplotlib\\figure.py:3154\u001b[0m, in \u001b[0;36mFigure.draw\u001b[1;34m(self, renderer)\u001b[0m\n\u001b[0;32m   3151\u001b[0m         \u001b[38;5;66;03m# ValueError can occur when resizing a window.\u001b[39;00m\n\u001b[0;32m   3153\u001b[0m \u001b[38;5;28mself\u001b[39m\u001b[38;5;241m.\u001b[39mpatch\u001b[38;5;241m.\u001b[39mdraw(renderer)\n\u001b[1;32m-> 3154\u001b[0m \u001b[43mmimage\u001b[49m\u001b[38;5;241;43m.\u001b[39;49m\u001b[43m_draw_list_compositing_images\u001b[49m\u001b[43m(\u001b[49m\n\u001b[0;32m   3155\u001b[0m \u001b[43m    \u001b[49m\u001b[43mrenderer\u001b[49m\u001b[43m,\u001b[49m\u001b[43m \u001b[49m\u001b[38;5;28;43mself\u001b[39;49m\u001b[43m,\u001b[49m\u001b[43m \u001b[49m\u001b[43martists\u001b[49m\u001b[43m,\u001b[49m\u001b[43m \u001b[49m\u001b[38;5;28;43mself\u001b[39;49m\u001b[38;5;241;43m.\u001b[39;49m\u001b[43msuppressComposite\u001b[49m\u001b[43m)\u001b[49m\n\u001b[0;32m   3157\u001b[0m \u001b[38;5;28;01mfor\u001b[39;00m sfig \u001b[38;5;129;01min\u001b[39;00m \u001b[38;5;28mself\u001b[39m\u001b[38;5;241m.\u001b[39msubfigs:\n\u001b[0;32m   3158\u001b[0m     sfig\u001b[38;5;241m.\u001b[39mdraw(renderer)\n",
      "File \u001b[1;32mc:\\Users\\user\\Downloads\\ten_academy\\week1\\Week1-10Academy-User-Analysis\\env\\Lib\\site-packages\\matplotlib\\image.py:132\u001b[0m, in \u001b[0;36m_draw_list_compositing_images\u001b[1;34m(renderer, parent, artists, suppress_composite)\u001b[0m\n\u001b[0;32m    130\u001b[0m \u001b[38;5;28;01mif\u001b[39;00m not_composite \u001b[38;5;129;01mor\u001b[39;00m \u001b[38;5;129;01mnot\u001b[39;00m has_images:\n\u001b[0;32m    131\u001b[0m     \u001b[38;5;28;01mfor\u001b[39;00m a \u001b[38;5;129;01min\u001b[39;00m artists:\n\u001b[1;32m--> 132\u001b[0m         \u001b[43ma\u001b[49m\u001b[38;5;241;43m.\u001b[39;49m\u001b[43mdraw\u001b[49m\u001b[43m(\u001b[49m\u001b[43mrenderer\u001b[49m\u001b[43m)\u001b[49m\n\u001b[0;32m    133\u001b[0m \u001b[38;5;28;01melse\u001b[39;00m:\n\u001b[0;32m    134\u001b[0m     \u001b[38;5;66;03m# Composite any adjacent images together\u001b[39;00m\n\u001b[0;32m    135\u001b[0m     image_group \u001b[38;5;241m=\u001b[39m []\n",
      "File \u001b[1;32mc:\\Users\\user\\Downloads\\ten_academy\\week1\\Week1-10Academy-User-Analysis\\env\\Lib\\site-packages\\matplotlib\\artist.py:72\u001b[0m, in \u001b[0;36mallow_rasterization.<locals>.draw_wrapper\u001b[1;34m(artist, renderer)\u001b[0m\n\u001b[0;32m     69\u001b[0m     \u001b[38;5;28;01mif\u001b[39;00m artist\u001b[38;5;241m.\u001b[39mget_agg_filter() \u001b[38;5;129;01mis\u001b[39;00m \u001b[38;5;129;01mnot\u001b[39;00m \u001b[38;5;28;01mNone\u001b[39;00m:\n\u001b[0;32m     70\u001b[0m         renderer\u001b[38;5;241m.\u001b[39mstart_filter()\n\u001b[1;32m---> 72\u001b[0m     \u001b[38;5;28;01mreturn\u001b[39;00m \u001b[43mdraw\u001b[49m\u001b[43m(\u001b[49m\u001b[43martist\u001b[49m\u001b[43m,\u001b[49m\u001b[43m \u001b[49m\u001b[43mrenderer\u001b[49m\u001b[43m)\u001b[49m\n\u001b[0;32m     73\u001b[0m \u001b[38;5;28;01mfinally\u001b[39;00m:\n\u001b[0;32m     74\u001b[0m     \u001b[38;5;28;01mif\u001b[39;00m artist\u001b[38;5;241m.\u001b[39mget_agg_filter() \u001b[38;5;129;01mis\u001b[39;00m \u001b[38;5;129;01mnot\u001b[39;00m \u001b[38;5;28;01mNone\u001b[39;00m:\n",
      "File \u001b[1;32mc:\\Users\\user\\Downloads\\ten_academy\\week1\\Week1-10Academy-User-Analysis\\env\\Lib\\site-packages\\matplotlib\\axes\\_base.py:3070\u001b[0m, in \u001b[0;36m_AxesBase.draw\u001b[1;34m(self, renderer)\u001b[0m\n\u001b[0;32m   3067\u001b[0m \u001b[38;5;28;01mif\u001b[39;00m artists_rasterized:\n\u001b[0;32m   3068\u001b[0m     _draw_rasterized(\u001b[38;5;28mself\u001b[39m\u001b[38;5;241m.\u001b[39mfigure, artists_rasterized, renderer)\n\u001b[1;32m-> 3070\u001b[0m \u001b[43mmimage\u001b[49m\u001b[38;5;241;43m.\u001b[39;49m\u001b[43m_draw_list_compositing_images\u001b[49m\u001b[43m(\u001b[49m\n\u001b[0;32m   3071\u001b[0m \u001b[43m    \u001b[49m\u001b[43mrenderer\u001b[49m\u001b[43m,\u001b[49m\u001b[43m \u001b[49m\u001b[38;5;28;43mself\u001b[39;49m\u001b[43m,\u001b[49m\u001b[43m \u001b[49m\u001b[43martists\u001b[49m\u001b[43m,\u001b[49m\u001b[43m \u001b[49m\u001b[38;5;28;43mself\u001b[39;49m\u001b[38;5;241;43m.\u001b[39;49m\u001b[43mfigure\u001b[49m\u001b[38;5;241;43m.\u001b[39;49m\u001b[43msuppressComposite\u001b[49m\u001b[43m)\u001b[49m\n\u001b[0;32m   3073\u001b[0m renderer\u001b[38;5;241m.\u001b[39mclose_group(\u001b[38;5;124m'\u001b[39m\u001b[38;5;124maxes\u001b[39m\u001b[38;5;124m'\u001b[39m)\n\u001b[0;32m   3074\u001b[0m \u001b[38;5;28mself\u001b[39m\u001b[38;5;241m.\u001b[39mstale \u001b[38;5;241m=\u001b[39m \u001b[38;5;28;01mFalse\u001b[39;00m\n",
      "File \u001b[1;32mc:\\Users\\user\\Downloads\\ten_academy\\week1\\Week1-10Academy-User-Analysis\\env\\Lib\\site-packages\\matplotlib\\image.py:132\u001b[0m, in \u001b[0;36m_draw_list_compositing_images\u001b[1;34m(renderer, parent, artists, suppress_composite)\u001b[0m\n\u001b[0;32m    130\u001b[0m \u001b[38;5;28;01mif\u001b[39;00m not_composite \u001b[38;5;129;01mor\u001b[39;00m \u001b[38;5;129;01mnot\u001b[39;00m has_images:\n\u001b[0;32m    131\u001b[0m     \u001b[38;5;28;01mfor\u001b[39;00m a \u001b[38;5;129;01min\u001b[39;00m artists:\n\u001b[1;32m--> 132\u001b[0m         \u001b[43ma\u001b[49m\u001b[38;5;241;43m.\u001b[39;49m\u001b[43mdraw\u001b[49m\u001b[43m(\u001b[49m\u001b[43mrenderer\u001b[49m\u001b[43m)\u001b[49m\n\u001b[0;32m    133\u001b[0m \u001b[38;5;28;01melse\u001b[39;00m:\n\u001b[0;32m    134\u001b[0m     \u001b[38;5;66;03m# Composite any adjacent images together\u001b[39;00m\n\u001b[0;32m    135\u001b[0m     image_group \u001b[38;5;241m=\u001b[39m []\n",
      "File \u001b[1;32mc:\\Users\\user\\Downloads\\ten_academy\\week1\\Week1-10Academy-User-Analysis\\env\\Lib\\site-packages\\matplotlib\\artist.py:72\u001b[0m, in \u001b[0;36mallow_rasterization.<locals>.draw_wrapper\u001b[1;34m(artist, renderer)\u001b[0m\n\u001b[0;32m     69\u001b[0m     \u001b[38;5;28;01mif\u001b[39;00m artist\u001b[38;5;241m.\u001b[39mget_agg_filter() \u001b[38;5;129;01mis\u001b[39;00m \u001b[38;5;129;01mnot\u001b[39;00m \u001b[38;5;28;01mNone\u001b[39;00m:\n\u001b[0;32m     70\u001b[0m         renderer\u001b[38;5;241m.\u001b[39mstart_filter()\n\u001b[1;32m---> 72\u001b[0m     \u001b[38;5;28;01mreturn\u001b[39;00m \u001b[43mdraw\u001b[49m\u001b[43m(\u001b[49m\u001b[43martist\u001b[49m\u001b[43m,\u001b[49m\u001b[43m \u001b[49m\u001b[43mrenderer\u001b[49m\u001b[43m)\u001b[49m\n\u001b[0;32m     73\u001b[0m \u001b[38;5;28;01mfinally\u001b[39;00m:\n\u001b[0;32m     74\u001b[0m     \u001b[38;5;28;01mif\u001b[39;00m artist\u001b[38;5;241m.\u001b[39mget_agg_filter() \u001b[38;5;129;01mis\u001b[39;00m \u001b[38;5;129;01mnot\u001b[39;00m \u001b[38;5;28;01mNone\u001b[39;00m:\n",
      "File \u001b[1;32mc:\\Users\\user\\Downloads\\ten_academy\\week1\\Week1-10Academy-User-Analysis\\env\\Lib\\site-packages\\matplotlib\\patches.py:588\u001b[0m, in \u001b[0;36mPatch.draw\u001b[1;34m(self, renderer)\u001b[0m\n\u001b[0;32m    586\u001b[0m tpath \u001b[38;5;241m=\u001b[39m transform\u001b[38;5;241m.\u001b[39mtransform_path_non_affine(path)\n\u001b[0;32m    587\u001b[0m affine \u001b[38;5;241m=\u001b[39m transform\u001b[38;5;241m.\u001b[39mget_affine()\n\u001b[1;32m--> 588\u001b[0m \u001b[38;5;28;43mself\u001b[39;49m\u001b[38;5;241;43m.\u001b[39;49m\u001b[43m_draw_paths_with_artist_properties\u001b[49m\u001b[43m(\u001b[49m\n\u001b[0;32m    589\u001b[0m \u001b[43m    \u001b[49m\u001b[43mrenderer\u001b[49m\u001b[43m,\u001b[49m\n\u001b[0;32m    590\u001b[0m \u001b[43m    \u001b[49m\u001b[43m[\u001b[49m\u001b[43m(\u001b[49m\u001b[43mtpath\u001b[49m\u001b[43m,\u001b[49m\u001b[43m \u001b[49m\u001b[43maffine\u001b[49m\u001b[43m,\u001b[49m\n\u001b[0;32m    591\u001b[0m \u001b[43m      \u001b[49m\u001b[38;5;66;43;03m# Work around a bug in the PDF and SVG renderers, which\u001b[39;49;00m\n\u001b[0;32m    592\u001b[0m \u001b[43m      \u001b[49m\u001b[38;5;66;43;03m# do not draw the hatches if the facecolor is fully\u001b[39;49;00m\n\u001b[0;32m    593\u001b[0m \u001b[43m      \u001b[49m\u001b[38;5;66;43;03m# transparent, but do if it is None.\u001b[39;49;00m\n\u001b[0;32m    594\u001b[0m \u001b[43m      \u001b[49m\u001b[38;5;28;43mself\u001b[39;49m\u001b[38;5;241;43m.\u001b[39;49m\u001b[43m_facecolor\u001b[49m\u001b[43m \u001b[49m\u001b[38;5;28;43;01mif\u001b[39;49;00m\u001b[43m \u001b[49m\u001b[38;5;28;43mself\u001b[39;49m\u001b[38;5;241;43m.\u001b[39;49m\u001b[43m_facecolor\u001b[49m\u001b[43m[\u001b[49m\u001b[38;5;241;43m3\u001b[39;49m\u001b[43m]\u001b[49m\u001b[43m \u001b[49m\u001b[38;5;28;43;01melse\u001b[39;49;00m\u001b[43m \u001b[49m\u001b[38;5;28;43;01mNone\u001b[39;49;00m\u001b[43m)\u001b[49m\u001b[43m]\u001b[49m\u001b[43m)\u001b[49m\n",
      "File \u001b[1;32mc:\\Users\\user\\Downloads\\ten_academy\\week1\\Week1-10Academy-User-Analysis\\env\\Lib\\site-packages\\matplotlib\\patches.py:573\u001b[0m, in \u001b[0;36mPatch._draw_paths_with_artist_properties\u001b[1;34m(self, renderer, draw_path_args_list)\u001b[0m\n\u001b[0;32m    570\u001b[0m     renderer \u001b[38;5;241m=\u001b[39m PathEffectRenderer(\u001b[38;5;28mself\u001b[39m\u001b[38;5;241m.\u001b[39mget_path_effects(), renderer)\n\u001b[0;32m    572\u001b[0m \u001b[38;5;28;01mfor\u001b[39;00m draw_path_args \u001b[38;5;129;01min\u001b[39;00m draw_path_args_list:\n\u001b[1;32m--> 573\u001b[0m     \u001b[43mrenderer\u001b[49m\u001b[38;5;241;43m.\u001b[39;49m\u001b[43mdraw_path\u001b[49m\u001b[43m(\u001b[49m\u001b[43mgc\u001b[49m\u001b[43m,\u001b[49m\u001b[43m \u001b[49m\u001b[38;5;241;43m*\u001b[39;49m\u001b[43mdraw_path_args\u001b[49m\u001b[43m)\u001b[49m\n\u001b[0;32m    575\u001b[0m gc\u001b[38;5;241m.\u001b[39mrestore()\n\u001b[0;32m    576\u001b[0m renderer\u001b[38;5;241m.\u001b[39mclose_group(\u001b[38;5;124m'\u001b[39m\u001b[38;5;124mpatch\u001b[39m\u001b[38;5;124m'\u001b[39m)\n",
      "File \u001b[1;32mc:\\Users\\user\\Downloads\\ten_academy\\week1\\Week1-10Academy-User-Analysis\\env\\Lib\\site-packages\\matplotlib\\backends\\backend_agg.py:132\u001b[0m, in \u001b[0;36mRendererAgg.draw_path\u001b[1;34m(self, gc, path, transform, rgbFace)\u001b[0m\n\u001b[0;32m    130\u001b[0m \u001b[38;5;28;01melse\u001b[39;00m:\n\u001b[0;32m    131\u001b[0m     \u001b[38;5;28;01mtry\u001b[39;00m:\n\u001b[1;32m--> 132\u001b[0m         \u001b[38;5;28;43mself\u001b[39;49m\u001b[38;5;241;43m.\u001b[39;49m\u001b[43m_renderer\u001b[49m\u001b[38;5;241;43m.\u001b[39;49m\u001b[43mdraw_path\u001b[49m\u001b[43m(\u001b[49m\u001b[43mgc\u001b[49m\u001b[43m,\u001b[49m\u001b[43m \u001b[49m\u001b[43mpath\u001b[49m\u001b[43m,\u001b[49m\u001b[43m \u001b[49m\u001b[43mtransform\u001b[49m\u001b[43m,\u001b[49m\u001b[43m \u001b[49m\u001b[43mrgbFace\u001b[49m\u001b[43m)\u001b[49m\n\u001b[0;32m    133\u001b[0m     \u001b[38;5;28;01mexcept\u001b[39;00m \u001b[38;5;167;01mOverflowError\u001b[39;00m:\n\u001b[0;32m    134\u001b[0m         cant_chunk \u001b[38;5;241m=\u001b[39m \u001b[38;5;124m'\u001b[39m\u001b[38;5;124m'\u001b[39m\n",
      "File \u001b[1;32mc:\\Users\\user\\Downloads\\ten_academy\\week1\\Week1-10Academy-User-Analysis\\env\\Lib\\site-packages\\matplotlib\\transforms.py:240\u001b[0m, in \u001b[0;36mBboxBase.__array__\u001b[1;34m(self, *args, **kwargs)\u001b[0m\n\u001b[0;32m    239\u001b[0m \u001b[38;5;28;01mdef\u001b[39;00m \u001b[38;5;21m__array__\u001b[39m(\u001b[38;5;28mself\u001b[39m, \u001b[38;5;241m*\u001b[39margs, \u001b[38;5;241m*\u001b[39m\u001b[38;5;241m*\u001b[39mkwargs):\n\u001b[1;32m--> 240\u001b[0m     \u001b[38;5;28;01mreturn\u001b[39;00m \u001b[38;5;28;43mself\u001b[39;49m\u001b[38;5;241;43m.\u001b[39;49m\u001b[43mget_points\u001b[49m\u001b[43m(\u001b[49m\u001b[43m)\u001b[49m\n",
      "File \u001b[1;32mc:\\Users\\user\\Downloads\\ten_academy\\week1\\Week1-10Academy-User-Analysis\\env\\Lib\\site-packages\\matplotlib\\transforms.py:1113\u001b[0m, in \u001b[0;36mTransformedBbox.get_points\u001b[1;34m(self)\u001b[0m\n\u001b[0;32m   1109\u001b[0m p \u001b[38;5;241m=\u001b[39m \u001b[38;5;28mself\u001b[39m\u001b[38;5;241m.\u001b[39m_bbox\u001b[38;5;241m.\u001b[39mget_points()\n\u001b[0;32m   1110\u001b[0m \u001b[38;5;66;03m# Transform all four points, then make a new bounding box\u001b[39;00m\n\u001b[0;32m   1111\u001b[0m \u001b[38;5;66;03m# from the result, taking care to make the orientation the\u001b[39;00m\n\u001b[0;32m   1112\u001b[0m \u001b[38;5;66;03m# same.\u001b[39;00m\n\u001b[1;32m-> 1113\u001b[0m points \u001b[38;5;241m=\u001b[39m \u001b[38;5;28;43mself\u001b[39;49m\u001b[38;5;241;43m.\u001b[39;49m\u001b[43m_transform\u001b[49m\u001b[38;5;241;43m.\u001b[39;49m\u001b[43mtransform\u001b[49m\u001b[43m(\u001b[49m\n\u001b[0;32m   1114\u001b[0m \u001b[43m    \u001b[49m\u001b[43m[\u001b[49m\u001b[43m[\u001b[49m\u001b[43mp\u001b[49m\u001b[43m[\u001b[49m\u001b[38;5;241;43m0\u001b[39;49m\u001b[43m,\u001b[49m\u001b[43m \u001b[49m\u001b[38;5;241;43m0\u001b[39;49m\u001b[43m]\u001b[49m\u001b[43m,\u001b[49m\u001b[43m \u001b[49m\u001b[43mp\u001b[49m\u001b[43m[\u001b[49m\u001b[38;5;241;43m0\u001b[39;49m\u001b[43m,\u001b[49m\u001b[43m \u001b[49m\u001b[38;5;241;43m1\u001b[39;49m\u001b[43m]\u001b[49m\u001b[43m]\u001b[49m\u001b[43m,\u001b[49m\n\u001b[0;32m   1115\u001b[0m \u001b[43m     \u001b[49m\u001b[43m[\u001b[49m\u001b[43mp\u001b[49m\u001b[43m[\u001b[49m\u001b[38;5;241;43m1\u001b[39;49m\u001b[43m,\u001b[49m\u001b[43m \u001b[49m\u001b[38;5;241;43m0\u001b[39;49m\u001b[43m]\u001b[49m\u001b[43m,\u001b[49m\u001b[43m \u001b[49m\u001b[43mp\u001b[49m\u001b[43m[\u001b[49m\u001b[38;5;241;43m0\u001b[39;49m\u001b[43m,\u001b[49m\u001b[43m \u001b[49m\u001b[38;5;241;43m1\u001b[39;49m\u001b[43m]\u001b[49m\u001b[43m]\u001b[49m\u001b[43m,\u001b[49m\n\u001b[0;32m   1116\u001b[0m \u001b[43m     \u001b[49m\u001b[43m[\u001b[49m\u001b[43mp\u001b[49m\u001b[43m[\u001b[49m\u001b[38;5;241;43m0\u001b[39;49m\u001b[43m,\u001b[49m\u001b[43m \u001b[49m\u001b[38;5;241;43m0\u001b[39;49m\u001b[43m]\u001b[49m\u001b[43m,\u001b[49m\u001b[43m \u001b[49m\u001b[43mp\u001b[49m\u001b[43m[\u001b[49m\u001b[38;5;241;43m1\u001b[39;49m\u001b[43m,\u001b[49m\u001b[43m \u001b[49m\u001b[38;5;241;43m1\u001b[39;49m\u001b[43m]\u001b[49m\u001b[43m]\u001b[49m\u001b[43m,\u001b[49m\n\u001b[0;32m   1117\u001b[0m \u001b[43m     \u001b[49m\u001b[43m[\u001b[49m\u001b[43mp\u001b[49m\u001b[43m[\u001b[49m\u001b[38;5;241;43m1\u001b[39;49m\u001b[43m,\u001b[49m\u001b[43m \u001b[49m\u001b[38;5;241;43m0\u001b[39;49m\u001b[43m]\u001b[49m\u001b[43m,\u001b[49m\u001b[43m \u001b[49m\u001b[43mp\u001b[49m\u001b[43m[\u001b[49m\u001b[38;5;241;43m1\u001b[39;49m\u001b[43m,\u001b[49m\u001b[43m \u001b[49m\u001b[38;5;241;43m1\u001b[39;49m\u001b[43m]\u001b[49m\u001b[43m]\u001b[49m\u001b[43m]\u001b[49m\u001b[43m)\u001b[49m\n\u001b[0;32m   1118\u001b[0m points \u001b[38;5;241m=\u001b[39m np\u001b[38;5;241m.\u001b[39mma\u001b[38;5;241m.\u001b[39mfilled(points, \u001b[38;5;241m0.0\u001b[39m)\n\u001b[0;32m   1120\u001b[0m xs \u001b[38;5;241m=\u001b[39m \u001b[38;5;28mmin\u001b[39m(points[:, \u001b[38;5;241m0\u001b[39m]), \u001b[38;5;28mmax\u001b[39m(points[:, \u001b[38;5;241m0\u001b[39m])\n",
      "File \u001b[1;32mc:\\Users\\user\\Downloads\\ten_academy\\week1\\Week1-10Academy-User-Analysis\\env\\Lib\\site-packages\\matplotlib\\transforms.py:1495\u001b[0m, in \u001b[0;36mTransform.transform\u001b[1;34m(self, values)\u001b[0m\n\u001b[0;32m   1492\u001b[0m values \u001b[38;5;241m=\u001b[39m values\u001b[38;5;241m.\u001b[39mreshape((\u001b[38;5;241m-\u001b[39m\u001b[38;5;241m1\u001b[39m, \u001b[38;5;28mself\u001b[39m\u001b[38;5;241m.\u001b[39minput_dims))\n\u001b[0;32m   1494\u001b[0m \u001b[38;5;66;03m# Transform the values\u001b[39;00m\n\u001b[1;32m-> 1495\u001b[0m res \u001b[38;5;241m=\u001b[39m \u001b[38;5;28;43mself\u001b[39;49m\u001b[38;5;241;43m.\u001b[39;49m\u001b[43mtransform_affine\u001b[49m\u001b[43m(\u001b[49m\u001b[38;5;28;43mself\u001b[39;49m\u001b[38;5;241;43m.\u001b[39;49m\u001b[43mtransform_non_affine\u001b[49m\u001b[43m(\u001b[49m\u001b[43mvalues\u001b[49m\u001b[43m)\u001b[49m\u001b[43m)\u001b[49m\n\u001b[0;32m   1497\u001b[0m \u001b[38;5;66;03m# Convert the result back to the shape of the input values.\u001b[39;00m\n\u001b[0;32m   1498\u001b[0m \u001b[38;5;28;01mif\u001b[39;00m ndim \u001b[38;5;241m==\u001b[39m \u001b[38;5;241m0\u001b[39m:\n",
      "File \u001b[1;32mc:\\Users\\user\\Downloads\\ten_academy\\week1\\Week1-10Academy-User-Analysis\\env\\Lib\\site-packages\\matplotlib\\_api\\deprecation.py:297\u001b[0m, in \u001b[0;36mrename_parameter.<locals>.wrapper\u001b[1;34m(*args, **kwargs)\u001b[0m\n\u001b[0;32m    292\u001b[0m     warn_deprecated(\n\u001b[0;32m    293\u001b[0m         since, message\u001b[38;5;241m=\u001b[39m\u001b[38;5;124mf\u001b[39m\u001b[38;5;124m\"\u001b[39m\u001b[38;5;124mThe \u001b[39m\u001b[38;5;132;01m{\u001b[39;00mold\u001b[38;5;132;01m!r}\u001b[39;00m\u001b[38;5;124m parameter of \u001b[39m\u001b[38;5;132;01m{\u001b[39;00mfunc\u001b[38;5;241m.\u001b[39m\u001b[38;5;18m__name__\u001b[39m\u001b[38;5;132;01m}\u001b[39;00m\u001b[38;5;124m() \u001b[39m\u001b[38;5;124m\"\u001b[39m\n\u001b[0;32m    294\u001b[0m         \u001b[38;5;124mf\u001b[39m\u001b[38;5;124m\"\u001b[39m\u001b[38;5;124mhas been renamed \u001b[39m\u001b[38;5;132;01m{\u001b[39;00mnew\u001b[38;5;132;01m!r}\u001b[39;00m\u001b[38;5;124m since Matplotlib \u001b[39m\u001b[38;5;132;01m{\u001b[39;00msince\u001b[38;5;132;01m}\u001b[39;00m\u001b[38;5;124m; support \u001b[39m\u001b[38;5;124m\"\u001b[39m\n\u001b[0;32m    295\u001b[0m         \u001b[38;5;124mf\u001b[39m\u001b[38;5;124m\"\u001b[39m\u001b[38;5;124mfor the old name will be dropped %(removal)s.\u001b[39m\u001b[38;5;124m\"\u001b[39m)\n\u001b[0;32m    296\u001b[0m     kwargs[new] \u001b[38;5;241m=\u001b[39m kwargs\u001b[38;5;241m.\u001b[39mpop(old)\n\u001b[1;32m--> 297\u001b[0m \u001b[38;5;28;01mreturn\u001b[39;00m \u001b[43mfunc\u001b[49m\u001b[43m(\u001b[49m\u001b[38;5;241;43m*\u001b[39;49m\u001b[43margs\u001b[49m\u001b[43m,\u001b[49m\u001b[43m \u001b[49m\u001b[38;5;241;43m*\u001b[39;49m\u001b[38;5;241;43m*\u001b[39;49m\u001b[43mkwargs\u001b[49m\u001b[43m)\u001b[49m\n",
      "File \u001b[1;32mc:\\Users\\user\\Downloads\\ten_academy\\week1\\Week1-10Academy-User-Analysis\\env\\Lib\\site-packages\\matplotlib\\transforms.py:2409\u001b[0m, in \u001b[0;36mCompositeGenericTransform.transform_affine\u001b[1;34m(self, values)\u001b[0m\n\u001b[0;32m   2406\u001b[0m \u001b[38;5;129m@_api\u001b[39m\u001b[38;5;241m.\u001b[39mrename_parameter(\u001b[38;5;124m\"\u001b[39m\u001b[38;5;124m3.8\u001b[39m\u001b[38;5;124m\"\u001b[39m, \u001b[38;5;124m\"\u001b[39m\u001b[38;5;124mpoints\u001b[39m\u001b[38;5;124m\"\u001b[39m, \u001b[38;5;124m\"\u001b[39m\u001b[38;5;124mvalues\u001b[39m\u001b[38;5;124m\"\u001b[39m)\n\u001b[0;32m   2407\u001b[0m \u001b[38;5;28;01mdef\u001b[39;00m \u001b[38;5;21mtransform_affine\u001b[39m(\u001b[38;5;28mself\u001b[39m, values):\n\u001b[0;32m   2408\u001b[0m     \u001b[38;5;66;03m# docstring inherited\u001b[39;00m\n\u001b[1;32m-> 2409\u001b[0m     \u001b[38;5;28;01mreturn\u001b[39;00m \u001b[38;5;28;43mself\u001b[39;49m\u001b[38;5;241;43m.\u001b[39;49m\u001b[43mget_affine\u001b[49m\u001b[43m(\u001b[49m\u001b[43m)\u001b[49m\u001b[38;5;241m.\u001b[39mtransform(values)\n",
      "File \u001b[1;32mc:\\Users\\user\\Downloads\\ten_academy\\week1\\Week1-10Academy-User-Analysis\\env\\Lib\\site-packages\\matplotlib\\transforms.py:2437\u001b[0m, in \u001b[0;36mCompositeGenericTransform.get_affine\u001b[1;34m(self)\u001b[0m\n\u001b[0;32m   2434\u001b[0m     \u001b[38;5;28;01mreturn\u001b[39;00m \u001b[38;5;28mself\u001b[39m\u001b[38;5;241m.\u001b[39m_b\u001b[38;5;241m.\u001b[39mget_affine()\n\u001b[0;32m   2435\u001b[0m \u001b[38;5;28;01melse\u001b[39;00m:\n\u001b[0;32m   2436\u001b[0m     \u001b[38;5;28;01mreturn\u001b[39;00m Affine2D(np\u001b[38;5;241m.\u001b[39mdot(\u001b[38;5;28mself\u001b[39m\u001b[38;5;241m.\u001b[39m_b\u001b[38;5;241m.\u001b[39mget_affine()\u001b[38;5;241m.\u001b[39mget_matrix(),\n\u001b[1;32m-> 2437\u001b[0m                            \u001b[38;5;28;43mself\u001b[39;49m\u001b[38;5;241;43m.\u001b[39;49m\u001b[43m_a\u001b[49m\u001b[38;5;241;43m.\u001b[39;49m\u001b[43mget_affine\u001b[49m\u001b[43m(\u001b[49m\u001b[43m)\u001b[49m\u001b[38;5;241m.\u001b[39mget_matrix()))\n",
      "File \u001b[1;32mc:\\Users\\user\\Downloads\\ten_academy\\week1\\Week1-10Academy-User-Analysis\\env\\Lib\\site-packages\\matplotlib\\transforms.py:2436\u001b[0m, in \u001b[0;36mCompositeGenericTransform.get_affine\u001b[1;34m(self)\u001b[0m\n\u001b[0;32m   2434\u001b[0m     \u001b[38;5;28;01mreturn\u001b[39;00m \u001b[38;5;28mself\u001b[39m\u001b[38;5;241m.\u001b[39m_b\u001b[38;5;241m.\u001b[39mget_affine()\n\u001b[0;32m   2435\u001b[0m \u001b[38;5;28;01melse\u001b[39;00m:\n\u001b[1;32m-> 2436\u001b[0m     \u001b[38;5;28;01mreturn\u001b[39;00m \u001b[43mAffine2D\u001b[49m\u001b[43m(\u001b[49m\u001b[43mnp\u001b[49m\u001b[38;5;241;43m.\u001b[39;49m\u001b[43mdot\u001b[49m\u001b[43m(\u001b[49m\u001b[38;5;28;43mself\u001b[39;49m\u001b[38;5;241;43m.\u001b[39;49m\u001b[43m_b\u001b[49m\u001b[38;5;241;43m.\u001b[39;49m\u001b[43mget_affine\u001b[49m\u001b[43m(\u001b[49m\u001b[43m)\u001b[49m\u001b[38;5;241;43m.\u001b[39;49m\u001b[43mget_matrix\u001b[49m\u001b[43m(\u001b[49m\u001b[43m)\u001b[49m\u001b[43m,\u001b[49m\n\u001b[0;32m   2437\u001b[0m \u001b[43m                           \u001b[49m\u001b[38;5;28;43mself\u001b[39;49m\u001b[38;5;241;43m.\u001b[39;49m\u001b[43m_a\u001b[49m\u001b[38;5;241;43m.\u001b[39;49m\u001b[43mget_affine\u001b[49m\u001b[43m(\u001b[49m\u001b[43m)\u001b[49m\u001b[38;5;241;43m.\u001b[39;49m\u001b[43mget_matrix\u001b[49m\u001b[43m(\u001b[49m\u001b[43m)\u001b[49m\u001b[43m)\u001b[49m\u001b[43m)\u001b[49m\n",
      "File \u001b[1;32mc:\\Users\\user\\Downloads\\ten_academy\\week1\\Week1-10Academy-User-Analysis\\env\\Lib\\site-packages\\matplotlib\\transforms.py:1903\u001b[0m, in \u001b[0;36mAffine2D.__init__\u001b[1;34m(self, matrix, **kwargs)\u001b[0m\n\u001b[0;32m   1900\u001b[0m \u001b[38;5;28;01mif\u001b[39;00m matrix \u001b[38;5;129;01mis\u001b[39;00m \u001b[38;5;28;01mNone\u001b[39;00m:\n\u001b[0;32m   1901\u001b[0m     \u001b[38;5;66;03m# A bit faster than np.identity(3).\u001b[39;00m\n\u001b[0;32m   1902\u001b[0m     matrix \u001b[38;5;241m=\u001b[39m IdentityTransform\u001b[38;5;241m.\u001b[39m_mtx\n\u001b[1;32m-> 1903\u001b[0m \u001b[38;5;28mself\u001b[39m\u001b[38;5;241m.\u001b[39m_mtx \u001b[38;5;241m=\u001b[39m \u001b[43mmatrix\u001b[49m\u001b[38;5;241;43m.\u001b[39;49m\u001b[43mcopy\u001b[49m\u001b[43m(\u001b[49m\u001b[43m)\u001b[49m\n\u001b[0;32m   1904\u001b[0m \u001b[38;5;28mself\u001b[39m\u001b[38;5;241m.\u001b[39m_invalid \u001b[38;5;241m=\u001b[39m \u001b[38;5;241m0\u001b[39m\n",
      "\u001b[1;31mKeyboardInterrupt\u001b[0m: "
     ]
    },
    {
     "data": {
      "image/png": "[encoded data removed]",
      "text/plain": [
       "<Figure size 1200x1200 with 6 Axes>"
      ]
     },
     "metadata": {},
     "output_type": "display_data"
    }
   ],
   "source": [
    "# Create histograms for the key aggregated variables\n",
    "fig, axs = plt.subplots(3, 2, figsize=(12, 12))\n",
    "\n",
    "# Plot histograms for selected variables\n",
    "sns.histplot(aggregated_data['total_download_data'], kde=True, ax=axs[0, 0]).set(title='total_download_data')\n",
    "sns.histplot(aggregated_data['average_session_duration'], kde=True, ax=axs[0, 1]).set(title='average_session_duration')\n",
    "sns.histplot(aggregated_data['number_of_xdr_sessions'], kde=True, ax=axs[1, 0]).set(title='number_of_xdr_sessions')\n",
    "# sns.histplot(aggregated_data['total_data_volume'], kde=True, ax=axs[1, 1]).set(title='total_data_volume)')\n",
    "# sns.histplot(aggregated_data['total_session_duration'], kde=True, ax=axs[2, 0]).set(title='total_session_duration')\n",
    "# sns.histplot(aggregated_data['total_upload_data'], kde=True, ax=axs[2, 0]).set(title='total_upload_data')\n",
    "# sns.histplot(df[unique_user_id], kde=True, ax=axs[2, 1]).set(title='IMSI')\n",
    "\n",
    "# Adjust layout\n",
    "plt.tight_layout()\n",
    "\n",
    "# Return the histogram plot\n",
    "fig  # Output the histogram plot for graphical univariate analysis"
   ]
  },
  {
   "cell_type": "code",
   "execution_count": 28,
   "id": "c2457590",
   "metadata": {},
   "outputs": [
    {
     "data": {
      "text/html": [
       "<div>\n",
       "<style scoped>\n",
       "    .dataframe tbody tr th:only-of-type {\n",
       "        vertical-align: middle;\n",
       "    }\n",
       "\n",
       "    .dataframe tbody tr th {\n",
       "        vertical-align: top;\n",
       "    }\n",
       "\n",
       "    .dataframe thead th {\n",
       "        text-align: right;\n",
       "    }\n",
       "</style>\n",
       "<table border=\"1\" class=\"dataframe\">\n",
       "  <thead>\n",
       "    <tr style=\"text-align: right;\">\n",
       "      <th></th>\n",
       "      <th>total_dl_(bytes)</th>\n",
       "      <th>total_ul_(bytes)</th>\n",
       "      <th>total_data</th>\n",
       "    </tr>\n",
       "    <tr>\n",
       "      <th>duration_decile</th>\n",
       "      <th></th>\n",
       "      <th></th>\n",
       "      <th></th>\n",
       "    </tr>\n",
       "  </thead>\n",
       "  <tbody>\n",
       "    <tr>\n",
       "      <th>5</th>\n",
       "      <td>6.380314e+12</td>\n",
       "      <td>5.809540e+11</td>\n",
       "      <td>6.961268e+12</td>\n",
       "    </tr>\n",
       "    <tr>\n",
       "      <th>6</th>\n",
       "      <td>6.424314e+12</td>\n",
       "      <td>5.782679e+11</td>\n",
       "      <td>7.002582e+12</td>\n",
       "    </tr>\n",
       "    <tr>\n",
       "      <th>7</th>\n",
       "      <td>6.382218e+12</td>\n",
       "      <td>5.813510e+11</td>\n",
       "      <td>6.963569e+12</td>\n",
       "    </tr>\n",
       "    <tr>\n",
       "      <th>8</th>\n",
       "      <td>6.413975e+12</td>\n",
       "      <td>5.802809e+11</td>\n",
       "      <td>6.994256e+12</td>\n",
       "    </tr>\n",
       "    <tr>\n",
       "      <th>9</th>\n",
       "      <td>6.387909e+12</td>\n",
       "      <td>5.817762e+11</td>\n",
       "      <td>6.969685e+12</td>\n",
       "    </tr>\n",
       "  </tbody>\n",
       "</table>\n",
       "</div>"
      ],
      "text/plain": [
       "                 total_dl_(bytes)  total_ul_(bytes)    total_data\n",
       "duration_decile                                                  \n",
       "5                    6.380314e+12      5.809540e+11  6.961268e+12\n",
       "6                    6.424314e+12      5.782679e+11  7.002582e+12\n",
       "7                    6.382218e+12      5.813510e+11  6.963569e+12\n",
       "8                    6.413975e+12      5.802809e+11  6.994256e+12\n",
       "9                    6.387909e+12      5.817762e+11  6.969685e+12"
      ]
     },
     "execution_count": 28,
     "metadata": {},
     "output_type": "execute_result"
    }
   ],
   "source": [
    "# Calculate deciles for the total duration (in milliseconds) for all sessions\n",
    "df['total_duration'] = df['activity_duration_dl_(ms)'] + df['activity_duration_ul_(ms)']\n",
    "\n",
    "# Segment into top five decile classes based on total duration\n",
    "df['duration_decile'] = pd.qcut(df['total_duration'], 10, labels=False)  # 10 deciles\n",
    "top_5_deciles = df[df['duration_decile'] >= 5]  # Top five decile classes\n",
    "\n",
    "# Calculate the total data (DL+UL) per decile class\n",
    "top_5_data_usage = top_5_deciles.groupby('duration_decile').agg({\n",
    "    'total_dl_(bytes)': 'sum',\n",
    "    'total_ul_(bytes)': 'sum'\n",
    "})\n",
    "\n",
    "# Compute the total data (DL + UL)\n",
    "top_5_data_usage['total_data'] = top_5_data_usage['total_dl_(bytes)'] + top_5_data_usage['total_ul_(bytes)']\n",
    "\n",
    "top_5_data_usage  # Result showing total data per decile class\n"
   ]
  },
  {
   "cell_type": "markdown",
   "id": "d31c4c01",
   "metadata": {},
   "source": [
    "## Insights and Recommendations\n",
    "The total data usage is relatively consistent across the top five decile classes, indicating a similar level of data usage.\n",
    "The slight variations in data could be due to other factors like network conditions, data plan limitations, or device capabilities.\n",
    "Given the similarity in data usage across deciles, focus on user behavior, device types, or geographic regions to gain further insights into data consumption."
   ]
  },
  {
   "cell_type": "markdown",
   "id": "735db7cd",
   "metadata": {},
   "source": [
    "## The next step is to compute a correlation matrix for social media data, Google data, email data, YouTube data, Netflix data, gaming data, and other data, then interpret the findings. "
   ]
  },
  {
   "cell_type": "code",
   "execution_count": 29,
   "id": "d4cd112a",
   "metadata": {},
   "outputs": [
    {
     "data": {
      "text/html": [
       "<div>\n",
       "<style scoped>\n",
       "    .dataframe tbody tr th:only-of-type {\n",
       "        vertical-align: middle;\n",
       "    }\n",
       "\n",
       "    .dataframe tbody tr th {\n",
       "        vertical-align: top;\n",
       "    }\n",
       "\n",
       "    .dataframe thead th {\n",
       "        text-align: right;\n",
       "    }\n",
       "</style>\n",
       "<table border=\"1\" class=\"dataframe\">\n",
       "  <thead>\n",
       "    <tr style=\"text-align: right;\">\n",
       "      <th></th>\n",
       "      <th>social_media_dl_(bytes)</th>\n",
       "      <th>social_media_ul_(bytes)</th>\n",
       "      <th>google_dl_(bytes)</th>\n",
       "      <th>google_ul_(bytes)</th>\n",
       "      <th>email_dl_(bytes)</th>\n",
       "      <th>email_ul_(bytes)</th>\n",
       "      <th>youtube_dl_(bytes)</th>\n",
       "      <th>youtube_ul_(bytes)</th>\n",
       "      <th>netflix_dl_(bytes)</th>\n",
       "      <th>netflix_ul_(bytes)</th>\n",
       "      <th>gaming_dl_(bytes)</th>\n",
       "      <th>gaming_ul_(bytes)</th>\n",
       "      <th>other_dl_(bytes)</th>\n",
       "      <th>other_ul_(bytes)</th>\n",
       "    </tr>\n",
       "  </thead>\n",
       "  <tbody>\n",
       "    <tr>\n",
       "      <th>social_media_dl_(bytes)</th>\n",
       "      <td>1.000000</td>\n",
       "      <td>-0.001527</td>\n",
       "      <td>-0.002966</td>\n",
       "      <td>0.001228</td>\n",
       "      <td>0.003542</td>\n",
       "      <td>-0.002451</td>\n",
       "      <td>-0.002087</td>\n",
       "      <td>0.003237</td>\n",
       "      <td>-0.001974</td>\n",
       "      <td>0.002897</td>\n",
       "      <td>0.000386</td>\n",
       "      <td>0.002800</td>\n",
       "      <td>0.006019</td>\n",
       "      <td>0.000864</td>\n",
       "    </tr>\n",
       "    <tr>\n",
       "      <th>social_media_ul_(bytes)</th>\n",
       "      <td>-0.001527</td>\n",
       "      <td>1.000000</td>\n",
       "      <td>0.003802</td>\n",
       "      <td>0.001659</td>\n",
       "      <td>0.003496</td>\n",
       "      <td>-0.002063</td>\n",
       "      <td>-0.002567</td>\n",
       "      <td>-0.002974</td>\n",
       "      <td>0.000541</td>\n",
       "      <td>-0.001966</td>\n",
       "      <td>-0.000705</td>\n",
       "      <td>0.000562</td>\n",
       "      <td>-0.003852</td>\n",
       "      <td>0.000952</td>\n",
       "    </tr>\n",
       "    <tr>\n",
       "      <th>google_dl_(bytes)</th>\n",
       "      <td>-0.002966</td>\n",
       "      <td>0.003802</td>\n",
       "      <td>1.000000</td>\n",
       "      <td>-0.000526</td>\n",
       "      <td>0.000565</td>\n",
       "      <td>0.001372</td>\n",
       "      <td>0.002608</td>\n",
       "      <td>-0.000024</td>\n",
       "      <td>0.000833</td>\n",
       "      <td>-0.000563</td>\n",
       "      <td>-0.001730</td>\n",
       "      <td>-0.001427</td>\n",
       "      <td>-0.003078</td>\n",
       "      <td>-0.001078</td>\n",
       "    </tr>\n",
       "    <tr>\n",
       "      <th>google_ul_(bytes)</th>\n",
       "      <td>0.001228</td>\n",
       "      <td>0.001659</td>\n",
       "      <td>-0.000526</td>\n",
       "      <td>1.000000</td>\n",
       "      <td>-0.001623</td>\n",
       "      <td>-0.002354</td>\n",
       "      <td>-0.000121</td>\n",
       "      <td>0.001569</td>\n",
       "      <td>-0.000775</td>\n",
       "      <td>-0.004679</td>\n",
       "      <td>0.001127</td>\n",
       "      <td>-0.002500</td>\n",
       "      <td>0.000324</td>\n",
       "      <td>-0.001643</td>\n",
       "    </tr>\n",
       "    <tr>\n",
       "      <th>email_dl_(bytes)</th>\n",
       "      <td>0.003542</td>\n",
       "      <td>0.003496</td>\n",
       "      <td>0.000565</td>\n",
       "      <td>-0.001623</td>\n",
       "      <td>1.000000</td>\n",
       "      <td>0.003110</td>\n",
       "      <td>-0.000126</td>\n",
       "      <td>-0.005252</td>\n",
       "      <td>0.002019</td>\n",
       "      <td>-0.000673</td>\n",
       "      <td>0.000870</td>\n",
       "      <td>-0.003847</td>\n",
       "      <td>-0.000395</td>\n",
       "      <td>0.005042</td>\n",
       "    </tr>\n",
       "    <tr>\n",
       "      <th>email_ul_(bytes)</th>\n",
       "      <td>-0.002451</td>\n",
       "      <td>-0.002063</td>\n",
       "      <td>0.001372</td>\n",
       "      <td>-0.002354</td>\n",
       "      <td>0.003110</td>\n",
       "      <td>1.000000</td>\n",
       "      <td>-0.000908</td>\n",
       "      <td>-0.007891</td>\n",
       "      <td>0.000219</td>\n",
       "      <td>0.000099</td>\n",
       "      <td>-0.003306</td>\n",
       "      <td>0.006200</td>\n",
       "      <td>-0.004108</td>\n",
       "      <td>-0.000591</td>\n",
       "    </tr>\n",
       "    <tr>\n",
       "      <th>youtube_dl_(bytes)</th>\n",
       "      <td>-0.002087</td>\n",
       "      <td>-0.002567</td>\n",
       "      <td>0.002608</td>\n",
       "      <td>-0.000121</td>\n",
       "      <td>-0.000126</td>\n",
       "      <td>-0.000908</td>\n",
       "      <td>1.000000</td>\n",
       "      <td>0.002055</td>\n",
       "      <td>0.000872</td>\n",
       "      <td>0.002616</td>\n",
       "      <td>-0.000993</td>\n",
       "      <td>-0.002467</td>\n",
       "      <td>0.002747</td>\n",
       "      <td>-0.006188</td>\n",
       "    </tr>\n",
       "    <tr>\n",
       "      <th>youtube_ul_(bytes)</th>\n",
       "      <td>0.003237</td>\n",
       "      <td>-0.002974</td>\n",
       "      <td>-0.000024</td>\n",
       "      <td>0.001569</td>\n",
       "      <td>-0.005252</td>\n",
       "      <td>-0.007891</td>\n",
       "      <td>0.002055</td>\n",
       "      <td>1.000000</td>\n",
       "      <td>-0.000551</td>\n",
       "      <td>0.003343</td>\n",
       "      <td>-0.002471</td>\n",
       "      <td>0.000776</td>\n",
       "      <td>0.001018</td>\n",
       "      <td>-0.000252</td>\n",
       "    </tr>\n",
       "    <tr>\n",
       "      <th>netflix_dl_(bytes)</th>\n",
       "      <td>-0.001974</td>\n",
       "      <td>0.000541</td>\n",
       "      <td>0.000833</td>\n",
       "      <td>-0.000775</td>\n",
       "      <td>0.002019</td>\n",
       "      <td>0.000219</td>\n",
       "      <td>0.000872</td>\n",
       "      <td>-0.000551</td>\n",
       "      <td>1.000000</td>\n",
       "      <td>-0.000381</td>\n",
       "      <td>-0.003153</td>\n",
       "      <td>-0.000050</td>\n",
       "      <td>-0.006183</td>\n",
       "      <td>-0.003810</td>\n",
       "    </tr>\n",
       "    <tr>\n",
       "      <th>netflix_ul_(bytes)</th>\n",
       "      <td>0.002897</td>\n",
       "      <td>-0.001966</td>\n",
       "      <td>-0.000563</td>\n",
       "      <td>-0.004679</td>\n",
       "      <td>-0.000673</td>\n",
       "      <td>0.000099</td>\n",
       "      <td>0.002616</td>\n",
       "      <td>0.003343</td>\n",
       "      <td>-0.000381</td>\n",
       "      <td>1.000000</td>\n",
       "      <td>-0.002789</td>\n",
       "      <td>-0.004182</td>\n",
       "      <td>-0.006872</td>\n",
       "      <td>-0.003283</td>\n",
       "    </tr>\n",
       "    <tr>\n",
       "      <th>gaming_dl_(bytes)</th>\n",
       "      <td>0.000386</td>\n",
       "      <td>-0.000705</td>\n",
       "      <td>-0.001730</td>\n",
       "      <td>0.001127</td>\n",
       "      <td>0.000870</td>\n",
       "      <td>-0.003306</td>\n",
       "      <td>-0.000993</td>\n",
       "      <td>-0.002471</td>\n",
       "      <td>-0.003153</td>\n",
       "      <td>-0.002789</td>\n",
       "      <td>1.000000</td>\n",
       "      <td>0.001426</td>\n",
       "      <td>-0.002442</td>\n",
       "      <td>-0.001153</td>\n",
       "    </tr>\n",
       "    <tr>\n",
       "      <th>gaming_ul_(bytes)</th>\n",
       "      <td>0.002800</td>\n",
       "      <td>0.000562</td>\n",
       "      <td>-0.001427</td>\n",
       "      <td>-0.002500</td>\n",
       "      <td>-0.003847</td>\n",
       "      <td>0.006200</td>\n",
       "      <td>-0.002467</td>\n",
       "      <td>0.000776</td>\n",
       "      <td>-0.000050</td>\n",
       "      <td>-0.004182</td>\n",
       "      <td>0.001426</td>\n",
       "      <td>1.000000</td>\n",
       "      <td>-0.002671</td>\n",
       "      <td>-0.005096</td>\n",
       "    </tr>\n",
       "    <tr>\n",
       "      <th>other_dl_(bytes)</th>\n",
       "      <td>0.006019</td>\n",
       "      <td>-0.003852</td>\n",
       "      <td>-0.003078</td>\n",
       "      <td>0.000324</td>\n",
       "      <td>-0.000395</td>\n",
       "      <td>-0.004108</td>\n",
       "      <td>0.002747</td>\n",
       "      <td>0.001018</td>\n",
       "      <td>-0.006183</td>\n",
       "      <td>-0.006872</td>\n",
       "      <td>-0.002442</td>\n",
       "      <td>-0.002671</td>\n",
       "      <td>1.000000</td>\n",
       "      <td>0.003144</td>\n",
       "    </tr>\n",
       "    <tr>\n",
       "      <th>other_ul_(bytes)</th>\n",
       "      <td>0.000864</td>\n",
       "      <td>0.000952</td>\n",
       "      <td>-0.001078</td>\n",
       "      <td>-0.001643</td>\n",
       "      <td>0.005042</td>\n",
       "      <td>-0.000591</td>\n",
       "      <td>-0.006188</td>\n",
       "      <td>-0.000252</td>\n",
       "      <td>-0.003810</td>\n",
       "      <td>-0.003283</td>\n",
       "      <td>-0.001153</td>\n",
       "      <td>-0.005096</td>\n",
       "      <td>0.003144</td>\n",
       "      <td>1.000000</td>\n",
       "    </tr>\n",
       "  </tbody>\n",
       "</table>\n",
       "</div>"
      ],
      "text/plain": [
       "                         social_media_dl_(bytes)  social_media_ul_(bytes)  \\\n",
       "social_media_dl_(bytes)                 1.000000                -0.001527   \n",
       "social_media_ul_(bytes)                -0.001527                 1.000000   \n",
       "google_dl_(bytes)                      -0.002966                 0.003802   \n",
       "google_ul_(bytes)                       0.001228                 0.001659   \n",
       "email_dl_(bytes)                        0.003542                 0.003496   \n",
       "email_ul_(bytes)                       -0.002451                -0.002063   \n",
       "youtube_dl_(bytes)                     -0.002087                -0.002567   \n",
       "youtube_ul_(bytes)                      0.003237                -0.002974   \n",
       "netflix_dl_(bytes)                     -0.001974                 0.000541   \n",
       "netflix_ul_(bytes)                      0.002897                -0.001966   \n",
       "gaming_dl_(bytes)                       0.000386                -0.000705   \n",
       "gaming_ul_(bytes)                       0.002800                 0.000562   \n",
       "other_dl_(bytes)                        0.006019                -0.003852   \n",
       "other_ul_(bytes)                        0.000864                 0.000952   \n",
       "\n",
       "                         google_dl_(bytes)  google_ul_(bytes)  \\\n",
       "social_media_dl_(bytes)          -0.002966           0.001228   \n",
       "social_media_ul_(bytes)           0.003802           0.001659   \n",
       "google_dl_(bytes)                 1.000000          -0.000526   \n",
       "google_ul_(bytes)                -0.000526           1.000000   \n",
       "email_dl_(bytes)                  0.000565          -0.001623   \n",
       "email_ul_(bytes)                  0.001372          -0.002354   \n",
       "youtube_dl_(bytes)                0.002608          -0.000121   \n",
       "youtube_ul_(bytes)               -0.000024           0.001569   \n",
       "netflix_dl_(bytes)                0.000833          -0.000775   \n",
       "netflix_ul_(bytes)               -0.000563          -0.004679   \n",
       "gaming_dl_(bytes)                -0.001730           0.001127   \n",
       "gaming_ul_(bytes)                -0.001427          -0.002500   \n",
       "other_dl_(bytes)                 -0.003078           0.000324   \n",
       "other_ul_(bytes)                 -0.001078          -0.001643   \n",
       "\n",
       "                         email_dl_(bytes)  email_ul_(bytes)  \\\n",
       "social_media_dl_(bytes)          0.003542         -0.002451   \n",
       "social_media_ul_(bytes)          0.003496         -0.002063   \n",
       "google_dl_(bytes)                0.000565          0.001372   \n",
       "google_ul_(bytes)               -0.001623         -0.002354   \n",
       "email_dl_(bytes)                 1.000000          0.003110   \n",
       "email_ul_(bytes)                 0.003110          1.000000   \n",
       "youtube_dl_(bytes)              -0.000126         -0.000908   \n",
       "youtube_ul_(bytes)              -0.005252         -0.007891   \n",
       "netflix_dl_(bytes)               0.002019          0.000219   \n",
       "netflix_ul_(bytes)              -0.000673          0.000099   \n",
       "gaming_dl_(bytes)                0.000870         -0.003306   \n",
       "gaming_ul_(bytes)               -0.003847          0.006200   \n",
       "other_dl_(bytes)                -0.000395         -0.004108   \n",
       "other_ul_(bytes)                 0.005042         -0.000591   \n",
       "\n",
       "                         youtube_dl_(bytes)  youtube_ul_(bytes)  \\\n",
       "social_media_dl_(bytes)           -0.002087            0.003237   \n",
       "social_media_ul_(bytes)           -0.002567           -0.002974   \n",
       "google_dl_(bytes)                  0.002608           -0.000024   \n",
       "google_ul_(bytes)                 -0.000121            0.001569   \n",
       "email_dl_(bytes)                  -0.000126           -0.005252   \n",
       "email_ul_(bytes)                  -0.000908           -0.007891   \n",
       "youtube_dl_(bytes)                 1.000000            0.002055   \n",
       "youtube_ul_(bytes)                 0.002055            1.000000   \n",
       "netflix_dl_(bytes)                 0.000872           -0.000551   \n",
       "netflix_ul_(bytes)                 0.002616            0.003343   \n",
       "gaming_dl_(bytes)                 -0.000993           -0.002471   \n",
       "gaming_ul_(bytes)                 -0.002467            0.000776   \n",
       "other_dl_(bytes)                   0.002747            0.001018   \n",
       "other_ul_(bytes)                  -0.006188           -0.000252   \n",
       "\n",
       "                         netflix_dl_(bytes)  netflix_ul_(bytes)  \\\n",
       "social_media_dl_(bytes)           -0.001974            0.002897   \n",
       "social_media_ul_(bytes)            0.000541           -0.001966   \n",
       "google_dl_(bytes)                  0.000833           -0.000563   \n",
       "google_ul_(bytes)                 -0.000775           -0.004679   \n",
       "email_dl_(bytes)                   0.002019           -0.000673   \n",
       "email_ul_(bytes)                   0.000219            0.000099   \n",
       "youtube_dl_(bytes)                 0.000872            0.002616   \n",
       "youtube_ul_(bytes)                -0.000551            0.003343   \n",
       "netflix_dl_(bytes)                 1.000000           -0.000381   \n",
       "netflix_ul_(bytes)                -0.000381            1.000000   \n",
       "gaming_dl_(bytes)                 -0.003153           -0.002789   \n",
       "gaming_ul_(bytes)                 -0.000050           -0.004182   \n",
       "other_dl_(bytes)                  -0.006183           -0.006872   \n",
       "other_ul_(bytes)                  -0.003810           -0.003283   \n",
       "\n",
       "                         gaming_dl_(bytes)  gaming_ul_(bytes)  \\\n",
       "social_media_dl_(bytes)           0.000386           0.002800   \n",
       "social_media_ul_(bytes)          -0.000705           0.000562   \n",
       "google_dl_(bytes)                -0.001730          -0.001427   \n",
       "google_ul_(bytes)                 0.001127          -0.002500   \n",
       "email_dl_(bytes)                  0.000870          -0.003847   \n",
       "email_ul_(bytes)                 -0.003306           0.006200   \n",
       "youtube_dl_(bytes)               -0.000993          -0.002467   \n",
       "youtube_ul_(bytes)               -0.002471           0.000776   \n",
       "netflix_dl_(bytes)               -0.003153          -0.000050   \n",
       "netflix_ul_(bytes)               -0.002789          -0.004182   \n",
       "gaming_dl_(bytes)                 1.000000           0.001426   \n",
       "gaming_ul_(bytes)                 0.001426           1.000000   \n",
       "other_dl_(bytes)                 -0.002442          -0.002671   \n",
       "other_ul_(bytes)                 -0.001153          -0.005096   \n",
       "\n",
       "                         other_dl_(bytes)  other_ul_(bytes)  \n",
       "social_media_dl_(bytes)          0.006019          0.000864  \n",
       "social_media_ul_(bytes)         -0.003852          0.000952  \n",
       "google_dl_(bytes)               -0.003078         -0.001078  \n",
       "google_ul_(bytes)                0.000324         -0.001643  \n",
       "email_dl_(bytes)                -0.000395          0.005042  \n",
       "email_ul_(bytes)                -0.004108         -0.000591  \n",
       "youtube_dl_(bytes)               0.002747         -0.006188  \n",
       "youtube_ul_(bytes)               0.001018         -0.000252  \n",
       "netflix_dl_(bytes)              -0.006183         -0.003810  \n",
       "netflix_ul_(bytes)              -0.006872         -0.003283  \n",
       "gaming_dl_(bytes)               -0.002442         -0.001153  \n",
       "gaming_ul_(bytes)               -0.002671         -0.005096  \n",
       "other_dl_(bytes)                 1.000000          0.003144  \n",
       "other_ul_(bytes)                 0.003144          1.000000  "
      ]
     },
     "execution_count": 29,
     "metadata": {},
     "output_type": "execute_result"
    }
   ],
   "source": [
    "# Select the relevant columns for the correlation analysis\n",
    "correlation_columns = [\n",
    "    'social_media_dl_(bytes)',\n",
    "    'social_media_ul_(bytes)',\n",
    "    'google_dl_(bytes)',\n",
    "    'google_ul_(bytes)',\n",
    "    'email_dl_(bytes)',\n",
    "    'email_ul_(bytes)',\n",
    "    'youtube_dl_(bytes)',\n",
    "    'youtube_ul_(bytes)',\n",
    "    'netflix_dl_(bytes)',\n",
    "    'netflix_ul_(bytes)',\n",
    "    'gaming_dl_(bytes)',\n",
    "    'gaming_ul_(bytes)',\n",
    "    'other_dl_(bytes)',\n",
    "    'other_ul_(bytes)'\n",
    "]\n",
    "\n",
    "# Create a correlation matrix for the specified columns\n",
    "correlation_matrix = df[correlation_columns].corr()\n",
    "\n",
    "correlation_matrix  # Display the correlation matrix\n"
   ]
  },
  {
   "cell_type": "code",
   "execution_count": 31,
   "id": "bb69ed9e",
   "metadata": {},
   "outputs": [
    {
     "data": {
      "text/html": [
       "<div>\n",
       "<style scoped>\n",
       "    .dataframe tbody tr th:only-of-type {\n",
       "        vertical-align: middle;\n",
       "    }\n",
       "\n",
       "    .dataframe tbody tr th {\n",
       "        vertical-align: top;\n",
       "    }\n",
       "\n",
       "    .dataframe thead th {\n",
       "        text-align: right;\n",
       "    }\n",
       "</style>\n",
       "<table border=\"1\" class=\"dataframe\">\n",
       "  <thead>\n",
       "    <tr style=\"text-align: right;\">\n",
       "      <th></th>\n",
       "      <th>social_media_dl_(bytes)</th>\n",
       "      <th>social_media_ul_(bytes)</th>\n",
       "      <th>google_dl_(bytes)</th>\n",
       "      <th>google_ul_(bytes)</th>\n",
       "      <th>email_dl_(bytes)</th>\n",
       "      <th>email_ul_(bytes)</th>\n",
       "      <th>youtube_dl_(bytes)</th>\n",
       "      <th>youtube_ul_(bytes)</th>\n",
       "      <th>netflix_dl_(bytes)</th>\n",
       "      <th>netflix_ul_(bytes)</th>\n",
       "      <th>gaming_dl_(bytes)</th>\n",
       "      <th>gaming_ul_(bytes)</th>\n",
       "      <th>other_dl_(bytes)</th>\n",
       "      <th>other_ul_(bytes)</th>\n",
       "    </tr>\n",
       "  </thead>\n",
       "  <tbody>\n",
       "    <tr>\n",
       "      <th>count</th>\n",
       "      <td>14.000000</td>\n",
       "      <td>14.000000</td>\n",
       "      <td>14.000000</td>\n",
       "      <td>14.000000</td>\n",
       "      <td>14.000000</td>\n",
       "      <td>14.000000</td>\n",
       "      <td>14.000000</td>\n",
       "      <td>14.000000</td>\n",
       "      <td>14.000000</td>\n",
       "      <td>14.000000</td>\n",
       "      <td>14.000000</td>\n",
       "      <td>14.000000</td>\n",
       "      <td>14.000000</td>\n",
       "      <td>14.000000</td>\n",
       "    </tr>\n",
       "    <tr>\n",
       "      <th>mean</th>\n",
       "      <td>0.072141</td>\n",
       "      <td>0.071097</td>\n",
       "      <td>0.071271</td>\n",
       "      <td>0.070835</td>\n",
       "      <td>0.071909</td>\n",
       "      <td>0.070523</td>\n",
       "      <td>0.071103</td>\n",
       "      <td>0.070899</td>\n",
       "      <td>0.070543</td>\n",
       "      <td>0.070255</td>\n",
       "      <td>0.070362</td>\n",
       "      <td>0.070680</td>\n",
       "      <td>0.070261</td>\n",
       "      <td>0.070493</td>\n",
       "    </tr>\n",
       "    <tr>\n",
       "      <th>std</th>\n",
       "      <td>0.267070</td>\n",
       "      <td>0.267367</td>\n",
       "      <td>0.267314</td>\n",
       "      <td>0.267438</td>\n",
       "      <td>0.267138</td>\n",
       "      <td>0.267543</td>\n",
       "      <td>0.267367</td>\n",
       "      <td>0.267433</td>\n",
       "      <td>0.267525</td>\n",
       "      <td>0.267616</td>\n",
       "      <td>0.267573</td>\n",
       "      <td>0.267494</td>\n",
       "      <td>0.267622</td>\n",
       "      <td>0.267547</td>\n",
       "    </tr>\n",
       "    <tr>\n",
       "      <th>min</th>\n",
       "      <td>-0.002966</td>\n",
       "      <td>-0.003852</td>\n",
       "      <td>-0.003078</td>\n",
       "      <td>-0.004679</td>\n",
       "      <td>-0.005252</td>\n",
       "      <td>-0.007891</td>\n",
       "      <td>-0.006188</td>\n",
       "      <td>-0.007891</td>\n",
       "      <td>-0.006183</td>\n",
       "      <td>-0.006872</td>\n",
       "      <td>-0.003306</td>\n",
       "      <td>-0.005096</td>\n",
       "      <td>-0.006872</td>\n",
       "      <td>-0.006188</td>\n",
       "    </tr>\n",
       "    <tr>\n",
       "      <th>25%</th>\n",
       "      <td>-0.001862</td>\n",
       "      <td>-0.002039</td>\n",
       "      <td>-0.001340</td>\n",
       "      <td>-0.001638</td>\n",
       "      <td>-0.000603</td>\n",
       "      <td>-0.002427</td>\n",
       "      <td>-0.001814</td>\n",
       "      <td>-0.001991</td>\n",
       "      <td>-0.001674</td>\n",
       "      <td>-0.003159</td>\n",
       "      <td>-0.002464</td>\n",
       "      <td>-0.002628</td>\n",
       "      <td>-0.003659</td>\n",
       "      <td>-0.002873</td>\n",
       "    </tr>\n",
       "    <tr>\n",
       "      <th>50%</th>\n",
       "      <td>0.001046</td>\n",
       "      <td>-0.000082</td>\n",
       "      <td>-0.000275</td>\n",
       "      <td>-0.000323</td>\n",
       "      <td>0.000718</td>\n",
       "      <td>-0.000749</td>\n",
       "      <td>-0.000123</td>\n",
       "      <td>0.000376</td>\n",
       "      <td>-0.000215</td>\n",
       "      <td>-0.000618</td>\n",
       "      <td>-0.001073</td>\n",
       "      <td>-0.000739</td>\n",
       "      <td>-0.001418</td>\n",
       "      <td>-0.000834</td>\n",
       "    </tr>\n",
       "    <tr>\n",
       "      <th>75%</th>\n",
       "      <td>0.003152</td>\n",
       "      <td>0.001482</td>\n",
       "      <td>0.001238</td>\n",
       "      <td>0.001203</td>\n",
       "      <td>0.003400</td>\n",
       "      <td>0.001084</td>\n",
       "      <td>0.002470</td>\n",
       "      <td>0.001934</td>\n",
       "      <td>0.000760</td>\n",
       "      <td>0.001987</td>\n",
       "      <td>0.000749</td>\n",
       "      <td>0.001264</td>\n",
       "      <td>0.002315</td>\n",
       "      <td>0.000930</td>\n",
       "    </tr>\n",
       "    <tr>\n",
       "      <th>max</th>\n",
       "      <td>1.000000</td>\n",
       "      <td>1.000000</td>\n",
       "      <td>1.000000</td>\n",
       "      <td>1.000000</td>\n",
       "      <td>1.000000</td>\n",
       "      <td>1.000000</td>\n",
       "      <td>1.000000</td>\n",
       "      <td>1.000000</td>\n",
       "      <td>1.000000</td>\n",
       "      <td>1.000000</td>\n",
       "      <td>1.000000</td>\n",
       "      <td>1.000000</td>\n",
       "      <td>1.000000</td>\n",
       "      <td>1.000000</td>\n",
       "    </tr>\n",
       "  </tbody>\n",
       "</table>\n",
       "</div>"
      ],
      "text/plain": [
       "       social_media_dl_(bytes)  social_media_ul_(bytes)  google_dl_(bytes)  \\\n",
       "count                14.000000                14.000000          14.000000   \n",
       "mean                  0.072141                 0.071097           0.071271   \n",
       "std                   0.267070                 0.267367           0.267314   \n",
       "min                  -0.002966                -0.003852          -0.003078   \n",
       "25%                  -0.001862                -0.002039          -0.001340   \n",
       "50%                   0.001046                -0.000082          -0.000275   \n",
       "75%                   0.003152                 0.001482           0.001238   \n",
       "max                   1.000000                 1.000000           1.000000   \n",
       "\n",
       "       google_ul_(bytes)  email_dl_(bytes)  email_ul_(bytes)  \\\n",
       "count          14.000000         14.000000         14.000000   \n",
       "mean            0.070835          0.071909          0.070523   \n",
       "std             0.267438          0.267138          0.267543   \n",
       "min            -0.004679         -0.005252         -0.007891   \n",
       "25%            -0.001638         -0.000603         -0.002427   \n",
       "50%            -0.000323          0.000718         -0.000749   \n",
       "75%             0.001203          0.003400          0.001084   \n",
       "max             1.000000          1.000000          1.000000   \n",
       "\n",
       "       youtube_dl_(bytes)  youtube_ul_(bytes)  netflix_dl_(bytes)  \\\n",
       "count           14.000000           14.000000           14.000000   \n",
       "mean             0.071103            0.070899            0.070543   \n",
       "std              0.267367            0.267433            0.267525   \n",
       "min             -0.006188           -0.007891           -0.006183   \n",
       "25%             -0.001814           -0.001991           -0.001674   \n",
       "50%             -0.000123            0.000376           -0.000215   \n",
       "75%              0.002470            0.001934            0.000760   \n",
       "max              1.000000            1.000000            1.000000   \n",
       "\n",
       "       netflix_ul_(bytes)  gaming_dl_(bytes)  gaming_ul_(bytes)  \\\n",
       "count           14.000000          14.000000          14.000000   \n",
       "mean             0.070255           0.070362           0.070680   \n",
       "std              0.267616           0.267573           0.267494   \n",
       "min             -0.006872          -0.003306          -0.005096   \n",
       "25%             -0.003159          -0.002464          -0.002628   \n",
       "50%             -0.000618          -0.001073          -0.000739   \n",
       "75%              0.001987           0.000749           0.001264   \n",
       "max              1.000000           1.000000           1.000000   \n",
       "\n",
       "       other_dl_(bytes)  other_ul_(bytes)  \n",
       "count         14.000000         14.000000  \n",
       "mean           0.070261          0.070493  \n",
       "std            0.267622          0.267547  \n",
       "min           -0.006872         -0.006188  \n",
       "25%           -0.003659         -0.002873  \n",
       "50%           -0.001418         -0.000834  \n",
       "75%            0.002315          0.000930  \n",
       "max            1.000000          1.000000  "
      ]
     },
     "execution_count": 31,
     "metadata": {},
     "output_type": "execute_result"
    }
   ],
   "source": [
    "correlation_matrix.describe()"
   ]
  },
  {
   "cell_type": "code",
   "execution_count": 33,
   "id": "cffedfea",
   "metadata": {},
   "outputs": [
    {
     "data": {
      "text/html": [
       "<div>\n",
       "<style scoped>\n",
       "    .dataframe tbody tr th:only-of-type {\n",
       "        vertical-align: middle;\n",
       "    }\n",
       "\n",
       "    .dataframe tbody tr th {\n",
       "        vertical-align: top;\n",
       "    }\n",
       "\n",
       "    .dataframe thead th {\n",
       "        text-align: right;\n",
       "    }\n",
       "</style>\n",
       "<table border=\"1\" class=\"dataframe\">\n",
       "  <thead>\n",
       "    <tr style=\"text-align: right;\">\n",
       "      <th></th>\n",
       "      <th>bearer_id</th>\n",
       "      <th>start</th>\n",
       "      <th>start_ms</th>\n",
       "      <th>end</th>\n",
       "      <th>end_ms</th>\n",
       "      <th>dur._(ms)</th>\n",
       "      <th>imsi</th>\n",
       "      <th>msisdn/number</th>\n",
       "      <th>imei</th>\n",
       "      <th>last_location_name</th>\n",
       "      <th>...</th>\n",
       "      <th>netflix_dl_(bytes)</th>\n",
       "      <th>netflix_ul_(bytes)</th>\n",
       "      <th>gaming_dl_(bytes)</th>\n",
       "      <th>gaming_ul_(bytes)</th>\n",
       "      <th>other_dl_(bytes)</th>\n",
       "      <th>other_ul_(bytes)</th>\n",
       "      <th>total_ul_(bytes)</th>\n",
       "      <th>total_dl_(bytes)</th>\n",
       "      <th>total_duration</th>\n",
       "      <th>duration_decile</th>\n",
       "    </tr>\n",
       "  </thead>\n",
       "  <tbody>\n",
       "    <tr>\n",
       "      <th>0</th>\n",
       "      <td>1.311448e+19</td>\n",
       "      <td>4/4/2019 12:01</td>\n",
       "      <td>770.0</td>\n",
       "      <td>4/25/2019 14:35</td>\n",
       "      <td>662.0</td>\n",
       "      <td>1823652.0</td>\n",
       "      <td>2.082014e+14</td>\n",
       "      <td>3.366496e+10</td>\n",
       "      <td>3.552121e+13</td>\n",
       "      <td>9.16456699548519E+015</td>\n",
       "      <td>...</td>\n",
       "      <td>8198936.0</td>\n",
       "      <td>9656251.0</td>\n",
       "      <td>278082303.0</td>\n",
       "      <td>14344150.0</td>\n",
       "      <td>171744450.0</td>\n",
       "      <td>8814393.0</td>\n",
       "      <td>36749741.0</td>\n",
       "      <td>308879636.0</td>\n",
       "      <td>76411.0</td>\n",
       "      <td>4</td>\n",
       "    </tr>\n",
       "    <tr>\n",
       "      <th>1</th>\n",
       "      <td>1.311448e+19</td>\n",
       "      <td>4/9/2019 13:04</td>\n",
       "      <td>235.0</td>\n",
       "      <td>4/25/2019 8:15</td>\n",
       "      <td>606.0</td>\n",
       "      <td>1365104.0</td>\n",
       "      <td>2.082019e+14</td>\n",
       "      <td>3.368185e+10</td>\n",
       "      <td>3.579401e+13</td>\n",
       "      <td>L77566A</td>\n",
       "      <td>...</td>\n",
       "      <td>18338413.0</td>\n",
       "      <td>17227132.0</td>\n",
       "      <td>608750074.0</td>\n",
       "      <td>1170709.0</td>\n",
       "      <td>526904238.0</td>\n",
       "      <td>15055145.0</td>\n",
       "      <td>53800391.0</td>\n",
       "      <td>653384965.0</td>\n",
       "      <td>3728.0</td>\n",
       "      <td>0</td>\n",
       "    </tr>\n",
       "    <tr>\n",
       "      <th>2</th>\n",
       "      <td>1.311448e+19</td>\n",
       "      <td>4/9/2019 17:42</td>\n",
       "      <td>1.0</td>\n",
       "      <td>4/25/2019 11:58</td>\n",
       "      <td>652.0</td>\n",
       "      <td>1361762.0</td>\n",
       "      <td>2.082003e+14</td>\n",
       "      <td>3.376063e+10</td>\n",
       "      <td>3.528151e+13</td>\n",
       "      <td>D42335A</td>\n",
       "      <td>...</td>\n",
       "      <td>17587794.0</td>\n",
       "      <td>6163408.0</td>\n",
       "      <td>229584621.0</td>\n",
       "      <td>395630.0</td>\n",
       "      <td>410692588.0</td>\n",
       "      <td>4215763.0</td>\n",
       "      <td>27883638.0</td>\n",
       "      <td>279807335.0</td>\n",
       "      <td>0.0</td>\n",
       "      <td>0</td>\n",
       "    </tr>\n",
       "    <tr>\n",
       "      <th>3</th>\n",
       "      <td>1.311448e+19</td>\n",
       "      <td>4/12/2019 20:10</td>\n",
       "      <td>565.0</td>\n",
       "      <td>4/25/2019 10:40</td>\n",
       "      <td>954.0</td>\n",
       "      <td>1089009.0</td>\n",
       "      <td>2.082014e+14</td>\n",
       "      <td>3.369980e+10</td>\n",
       "      <td>3.540701e+13</td>\n",
       "      <td>D88865A</td>\n",
       "      <td>...</td>\n",
       "      <td>17124581.0</td>\n",
       "      <td>415218.0</td>\n",
       "      <td>527707248.0</td>\n",
       "      <td>3529801.0</td>\n",
       "      <td>550709500.0</td>\n",
       "      <td>13910322.0</td>\n",
       "      <td>38542814.0</td>\n",
       "      <td>569138589.0</td>\n",
       "      <td>0.0</td>\n",
       "      <td>0</td>\n",
       "    </tr>\n",
       "    <tr>\n",
       "      <th>4</th>\n",
       "      <td>1.311448e+19</td>\n",
       "      <td>4/13/2019 8:41</td>\n",
       "      <td>612.0</td>\n",
       "      <td>4/25/2019 8:16</td>\n",
       "      <td>168.0</td>\n",
       "      <td>1035261.0</td>\n",
       "      <td>2.082014e+14</td>\n",
       "      <td>3.366537e+10</td>\n",
       "      <td>8.676270e+13</td>\n",
       "      <td>9.16456701058919E+015</td>\n",
       "      <td>...</td>\n",
       "      <td>13231006.0</td>\n",
       "      <td>17981760.0</td>\n",
       "      <td>44796223.0</td>\n",
       "      <td>14084934.0</td>\n",
       "      <td>803653557.0</td>\n",
       "      <td>10649768.0</td>\n",
       "      <td>47925246.0</td>\n",
       "      <td>70562047.0</td>\n",
       "      <td>325995.0</td>\n",
       "      <td>6</td>\n",
       "    </tr>\n",
       "  </tbody>\n",
       "</table>\n",
       "<p>5 rows × 47 columns</p>\n",
       "</div>"
      ],
      "text/plain": [
       "      bearer_id            start  start_ms              end  end_ms  \\\n",
       "0  1.311448e+19   4/4/2019 12:01     770.0  4/25/2019 14:35   662.0   \n",
       "1  1.311448e+19   4/9/2019 13:04     235.0   4/25/2019 8:15   606.0   \n",
       "2  1.311448e+19   4/9/2019 17:42       1.0  4/25/2019 11:58   652.0   \n",
       "3  1.311448e+19  4/12/2019 20:10     565.0  4/25/2019 10:40   954.0   \n",
       "4  1.311448e+19   4/13/2019 8:41     612.0   4/25/2019 8:16   168.0   \n",
       "\n",
       "   dur._(ms)          imsi  msisdn/number          imei  \\\n",
       "0  1823652.0  2.082014e+14   3.366496e+10  3.552121e+13   \n",
       "1  1365104.0  2.082019e+14   3.368185e+10  3.579401e+13   \n",
       "2  1361762.0  2.082003e+14   3.376063e+10  3.528151e+13   \n",
       "3  1089009.0  2.082014e+14   3.369980e+10  3.540701e+13   \n",
       "4  1035261.0  2.082014e+14   3.366537e+10  8.676270e+13   \n",
       "\n",
       "      last_location_name  ...  netflix_dl_(bytes)  netflix_ul_(bytes)  \\\n",
       "0  9.16456699548519E+015  ...           8198936.0           9656251.0   \n",
       "1                L77566A  ...          18338413.0          17227132.0   \n",
       "2                D42335A  ...          17587794.0           6163408.0   \n",
       "3                D88865A  ...          17124581.0            415218.0   \n",
       "4  9.16456701058919E+015  ...          13231006.0          17981760.0   \n",
       "\n",
       "   gaming_dl_(bytes)  gaming_ul_(bytes)  other_dl_(bytes)  other_ul_(bytes)  \\\n",
       "0        278082303.0         14344150.0       171744450.0         8814393.0   \n",
       "1        608750074.0          1170709.0       526904238.0        15055145.0   \n",
       "2        229584621.0           395630.0       410692588.0         4215763.0   \n",
       "3        527707248.0          3529801.0       550709500.0        13910322.0   \n",
       "4         44796223.0         14084934.0       803653557.0        10649768.0   \n",
       "\n",
       "   total_ul_(bytes)  total_dl_(bytes)  total_duration  duration_decile  \n",
       "0        36749741.0       308879636.0         76411.0                4  \n",
       "1        53800391.0       653384965.0          3728.0                0  \n",
       "2        27883638.0       279807335.0             0.0                0  \n",
       "3        38542814.0       569138589.0             0.0                0  \n",
       "4        47925246.0        70562047.0        325995.0                6  \n",
       "\n",
       "[5 rows x 47 columns]"
      ]
     },
     "execution_count": 33,
     "metadata": {},
     "output_type": "execute_result"
    }
   ],
   "source": [
    "df.head()"
   ]
  },
  {
   "cell_type": "code",
   "execution_count": 35,
   "id": "9a43b188",
   "metadata": {},
   "outputs": [
    {
     "data": {
      "text/plain": [
       "array([0.07271518, 0.07249613, 0.07211714, 0.07198176])"
      ]
     },
     "execution_count": 35,
     "metadata": {},
     "output_type": "execute_result"
    }
   ],
   "source": [
    "from sklearn.decomposition import PCA\n",
    "from sklearn.preprocessing import StandardScaler\n",
    "\n",
    "# Standardize the data for PCA\n",
    "scaler = StandardScaler()\n",
    "scaled_data = scaler.fit_transform(df[correlation_columns])\n",
    "\n",
    "# Perform PCA to reduce dimensions and identify the most significant components\n",
    "pca = PCA(n_components=4)  # Reduce to four principal components\n",
    "pca_result = pca.fit_transform(scaled_data)\n",
    "\n",
    "# Explained variance ratio for each principal component\n",
    "explained_variance = pca.explained_variance_ratio_\n",
    "\n",
    "# Contribution of each original variable to the principal components\n",
    "component_contribution = pd.DataFrame(\n",
    "    pca.components_,\n",
    "    columns=correlation_columns,\n",
    "    index=[f\"PC{i+1}\" for i in range(4)]\n",
    ")\n",
    "\n",
    "explained_variance # Result of PCA analysis\n"
   ]
  },
  {
   "cell_type": "code",
   "execution_count": 37,
   "id": "edeb8a3b",
   "metadata": {},
   "outputs": [
    {
     "data": {
      "text/html": [
       "<div>\n",
       "<style scoped>\n",
       "    .dataframe tbody tr th:only-of-type {\n",
       "        vertical-align: middle;\n",
       "    }\n",
       "\n",
       "    .dataframe tbody tr th {\n",
       "        vertical-align: top;\n",
       "    }\n",
       "\n",
       "    .dataframe thead th {\n",
       "        text-align: right;\n",
       "    }\n",
       "</style>\n",
       "<table border=\"1\" class=\"dataframe\">\n",
       "  <thead>\n",
       "    <tr style=\"text-align: right;\">\n",
       "      <th></th>\n",
       "      <th>social_media_dl_(bytes)</th>\n",
       "      <th>social_media_ul_(bytes)</th>\n",
       "      <th>google_dl_(bytes)</th>\n",
       "      <th>google_ul_(bytes)</th>\n",
       "      <th>email_dl_(bytes)</th>\n",
       "      <th>email_ul_(bytes)</th>\n",
       "      <th>youtube_dl_(bytes)</th>\n",
       "      <th>youtube_ul_(bytes)</th>\n",
       "      <th>netflix_dl_(bytes)</th>\n",
       "      <th>netflix_ul_(bytes)</th>\n",
       "      <th>gaming_dl_(bytes)</th>\n",
       "      <th>gaming_ul_(bytes)</th>\n",
       "      <th>other_dl_(bytes)</th>\n",
       "      <th>other_ul_(bytes)</th>\n",
       "    </tr>\n",
       "  </thead>\n",
       "  <tbody>\n",
       "    <tr>\n",
       "      <th>PC1</th>\n",
       "      <td>0.338470</td>\n",
       "      <td>-0.207893</td>\n",
       "      <td>-0.239400</td>\n",
       "      <td>0.161103</td>\n",
       "      <td>-0.122350</td>\n",
       "      <td>-0.431875</td>\n",
       "      <td>0.026043</td>\n",
       "      <td>0.345461</td>\n",
       "      <td>-0.311949</td>\n",
       "      <td>-0.077482</td>\n",
       "      <td>0.043712</td>\n",
       "      <td>-0.175847</td>\n",
       "      <td>0.515680</td>\n",
       "      <td>0.188069</td>\n",
       "    </tr>\n",
       "    <tr>\n",
       "      <th>PC2</th>\n",
       "      <td>0.064412</td>\n",
       "      <td>0.223496</td>\n",
       "      <td>-0.062682</td>\n",
       "      <td>0.019338</td>\n",
       "      <td>0.415285</td>\n",
       "      <td>0.151711</td>\n",
       "      <td>-0.369858</td>\n",
       "      <td>-0.402735</td>\n",
       "      <td>-0.160367</td>\n",
       "      <td>-0.377353</td>\n",
       "      <td>0.115721</td>\n",
       "      <td>-0.058282</td>\n",
       "      <td>0.166780</td>\n",
       "      <td>0.484162</td>\n",
       "    </tr>\n",
       "    <tr>\n",
       "      <th>PC3</th>\n",
       "      <td>0.131088</td>\n",
       "      <td>-0.206790</td>\n",
       "      <td>-0.284653</td>\n",
       "      <td>0.014889</td>\n",
       "      <td>-0.306944</td>\n",
       "      <td>0.269022</td>\n",
       "      <td>-0.196309</td>\n",
       "      <td>-0.061452</td>\n",
       "      <td>-0.149054</td>\n",
       "      <td>-0.270584</td>\n",
       "      <td>0.227682</td>\n",
       "      <td>0.665437</td>\n",
       "      <td>0.060568</td>\n",
       "      <td>-0.236972</td>\n",
       "    </tr>\n",
       "    <tr>\n",
       "      <th>PC4</th>\n",
       "      <td>-0.313723</td>\n",
       "      <td>0.355632</td>\n",
       "      <td>0.222045</td>\n",
       "      <td>0.509356</td>\n",
       "      <td>-0.231922</td>\n",
       "      <td>-0.326667</td>\n",
       "      <td>0.007748</td>\n",
       "      <td>0.037969</td>\n",
       "      <td>0.054095</td>\n",
       "      <td>-0.453824</td>\n",
       "      <td>0.259104</td>\n",
       "      <td>-0.021662</td>\n",
       "      <td>-0.070885</td>\n",
       "      <td>-0.151144</td>\n",
       "    </tr>\n",
       "  </tbody>\n",
       "</table>\n",
       "</div>"
      ],
      "text/plain": [
       "     social_media_dl_(bytes)  social_media_ul_(bytes)  google_dl_(bytes)  \\\n",
       "PC1                 0.338470                -0.207893          -0.239400   \n",
       "PC2                 0.064412                 0.223496          -0.062682   \n",
       "PC3                 0.131088                -0.206790          -0.284653   \n",
       "PC4                -0.313723                 0.355632           0.222045   \n",
       "\n",
       "     google_ul_(bytes)  email_dl_(bytes)  email_ul_(bytes)  \\\n",
       "PC1           0.161103         -0.122350         -0.431875   \n",
       "PC2           0.019338          0.415285          0.151711   \n",
       "PC3           0.014889         -0.306944          0.269022   \n",
       "PC4           0.509356         -0.231922         -0.326667   \n",
       "\n",
       "     youtube_dl_(bytes)  youtube_ul_(bytes)  netflix_dl_(bytes)  \\\n",
       "PC1            0.026043            0.345461           -0.311949   \n",
       "PC2           -0.369858           -0.402735           -0.160367   \n",
       "PC3           -0.196309           -0.061452           -0.149054   \n",
       "PC4            0.007748            0.037969            0.054095   \n",
       "\n",
       "     netflix_ul_(bytes)  gaming_dl_(bytes)  gaming_ul_(bytes)  \\\n",
       "PC1           -0.077482           0.043712          -0.175847   \n",
       "PC2           -0.377353           0.115721          -0.058282   \n",
       "PC3           -0.270584           0.227682           0.665437   \n",
       "PC4           -0.453824           0.259104          -0.021662   \n",
       "\n",
       "     other_dl_(bytes)  other_ul_(bytes)  \n",
       "PC1          0.515680          0.188069  \n",
       "PC2          0.166780          0.484162  \n",
       "PC3          0.060568         -0.236972  \n",
       "PC4         -0.070885         -0.151144  "
      ]
     },
     "execution_count": 37,
     "metadata": {},
     "output_type": "execute_result"
    }
   ],
   "source": [
    "component_contribution "
   ]
  },
  {
   "cell_type": "markdown",
   "id": "facb11ad",
   "metadata": {},
   "source": []
  },
  {
   "cell_type": "markdown",
   "id": "8fe9faa8",
   "metadata": {},
   "source": [
    "## Interpretation\n",
    "- Balanced Contribution of Principal Components: Each principal component explains a relatively equal portion of the variance in the data, suggesting that the data has multiple contributing factors with similar importance.\n",
    "- Variable Contribution to PC1: Social Media Download and YouTube Upload are the strongest positive contributors to the first principal component, while Email Upload has a strong negative contribution, indicating differing patterns of behavior in these domains.\n",
    "- Variable Contribution to PC3: Gaming Upload is the strongest contributor, suggesting that this variable significantly impacts the data's structure, while other variables have negative contributions indicating different behavioral trends.\n",
    "- Differences in Contributions Across Principal Components: Variations in contributions across components highlight diverse factors contributing to data patterns, suggesting the need for detailed analysis of user behavior in specific segments (e.g., gaming, email, social media).\n",
    "## Recommendations and Next Steps\n",
    "- Focus on High-Contributing Variables: The variables with the highest contributions in each principal component may offer insights into the underlying data structure.\n",
    "- Investigate Behavioral Patterns: Examine the behavior associated with significant contributors to identify any potential patterns or trends."
   ]
  }
 ],
 "metadata": {
  "kernelspec": {
   "display_name": "Python 3 (ipykernel)",
   "language": "python",
   "name": "python3"
  },
  "language_info": {
   "codemirror_mode": {
    "name": "ipython",
    "version": 3
   },
   "file_extension": ".py",
   "mimetype": "text/x-python",
   "name": "python",
   "nbconvert_exporter": "python",
   "pygments_lexer": "ipython3",
   "version": "3.12.0"
  }
 },
 "nbformat": 4,
 "nbformat_minor": 5
}
